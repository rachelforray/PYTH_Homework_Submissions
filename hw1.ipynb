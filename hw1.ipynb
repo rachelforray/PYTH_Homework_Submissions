{
  "nbformat": 4,
  "nbformat_minor": 0,
  "metadata": {
    "colab": {
      "name": "hw1.ipynb",
      "version": "0.3.2",
      "provenance": []
    },
    "kernelspec": {
      "name": "python3",
      "display_name": "Python 3"
    }
  },
  "cells": [
    {
      "cell_type": "markdown",
      "metadata": {
        "id": "4FyOqJj-P7O4",
        "colab_type": "text"
      },
      "source": [
        "<a href=\"https://colab.research.google.com/github/mottaquikarim/PYTH2/blob/master/src/PSETS/nb/basic_data_inclass_psets.ipynb\" target=\"_parent\"><img src=\"https://colab.research.google.com/assets/colab-badge.svg\" alt=\"Open In Colab\"/></a>"
      ]
    },
    {
      "cell_type": "markdown",
      "metadata": {
        "id": "UzLBQix0P7O5",
        "colab_type": "text"
      },
      "source": [
        "#  BASIC DATA TYPES\n",
        "\n",
        "## BASICS\n",
        "\n",
        "### P1.PY\n",
        "\n",
        "\n"
      ]
    },
    {
      "cell_type": "code",
      "metadata": {
        "id": "bFJe6HB6P7O7",
        "colab_type": "code",
        "outputId": "5e2a520d-9f09-4758-fdc2-338fc3c969fa",
        "colab": {
          "base_uri": "https://localhost:8080/",
          "height": 34
        }
      },
      "source": [
        "\"\"\"\n",
        "Placeholders\n",
        "\"\"\"\n",
        "\n",
        "initial = 0\n",
        "print(initial)\n",
        "#this is a placeholder value for 'initial'. Update once known\n",
        "\n",
        "# You're writing a program, and you don't know what your starting value for your 'initial' variable is yet. The program won't run if you leave it blank, but you don't want to forget you need it! Make a workaround.\n",
        "\n"
      ],
      "execution_count": 0,
      "outputs": [
        {
          "output_type": "stream",
          "text": [
            "0\n"
          ],
          "name": "stdout"
        }
      ]
    },
    {
      "cell_type": "markdown",
      "metadata": {
        "id": "7B7JaeYTP7O-",
        "colab_type": "text"
      },
      "source": [
        "\n",
        "\n",
        "### P2.PY\n",
        "\n",
        "\n"
      ]
    },
    {
      "cell_type": "code",
      "metadata": {
        "id": "XQTHUikYP7O_",
        "colab_type": "code",
        "outputId": "4a793cd2-07b3-433b-9584-a75c46eabd4d",
        "colab": {
          "base_uri": "https://localhost:8080/",
          "height": 51
        }
      },
      "source": [
        "\"\"\"\n",
        "Basic Variables\n",
        "\"\"\"\n",
        "\n",
        "# Create a variable that represents your favorite number, and add a note to remind yourself what this variable represents. Now print it out without re-typing the number.\n",
        "\n",
        "favorite_number = 16\n",
        "# This variable represents my favorite number\n",
        "\n",
        "print(favorite_number)\n",
        "\n",
        "# Create another variable that represents your favorite color, and do the same steps as above.\n",
        "\n",
        "favorite_color = \"purple\"\n",
        "#This variable represents my favorite color \n",
        "print(favorite_color)\n"
      ],
      "execution_count": 0,
      "outputs": [
        {
          "output_type": "stream",
          "text": [
            "16\n",
            "purple\n"
          ],
          "name": "stdout"
        }
      ]
    },
    {
      "cell_type": "markdown",
      "metadata": {
        "id": "I5-VRW1FP7PC",
        "colab_type": "text"
      },
      "source": [
        "\n",
        "\n",
        "### P3.PY\n",
        "\n",
        "\n"
      ]
    },
    {
      "cell_type": "code",
      "metadata": {
        "id": "0wv4tJ1yP7PD",
        "colab_type": "code",
        "colab": {
          "base_uri": "https://localhost:8080/",
          "height": 102
        },
        "outputId": "1cd37f79-58f6-4920-9f3a-944aa4d27e74"
      },
      "source": [
        "\"\"\"\n",
        "String Formatting\n",
        "\"\"\"\n",
        "\n",
        "\n",
        "# Create a variable that contains the first 4 lines of your favorite song. Add a comment that includes the song title and artist **each on their own line**! Now print out this variable.\n",
        "\n",
        "favorite_song = \"\"\"Where were you\n",
        "When everything was falling apart\n",
        "All my days\n",
        "Spent by the telephone \n",
        "\"\"\"\n",
        "\n",
        "#You Found Me\n",
        "#Artist The Fray\n",
        "\n",
        "\n",
        "print(favorite_song)\n"
      ],
      "execution_count": 15,
      "outputs": [
        {
          "output_type": "stream",
          "text": [
            "Where were you\n",
            "When everything was falling apart\n",
            "All my days\n",
            "Spent by the telephone \n",
            "\n"
          ],
          "name": "stdout"
        }
      ]
    },
    {
      "cell_type": "markdown",
      "metadata": {
        "id": "c9gFiFDtP7PF",
        "colab_type": "text"
      },
      "source": [
        "\n",
        "\n",
        "## TYPECASTING\n",
        "\n",
        "### P1.PY\n",
        "\n",
        "\n"
      ]
    },
    {
      "cell_type": "code",
      "metadata": {
        "id": "Mx8fGtfuP7PF",
        "colab_type": "code",
        "colab": {
          "base_uri": "https://localhost:8080/",
          "height": 289
        },
        "outputId": "a1ecd277-2228-4c34-a605-0ef44b5fee29"
      },
      "source": [
        "\"\"\"\n",
        "Typcasting w. Integers & Floats\n",
        "\"\"\"\n",
        "\n",
        "# Convert these numbers into floats and back. Print out each result as well as its data type.\n",
        "\n",
        "five = 5\n",
        "zero = 0\n",
        "neg_8 = -8\n",
        "neg_22 = -22\n",
        "\n",
        "#print(type(five))\n",
        "#print(type(zero))\n",
        "#print(type(neg_8))\n",
        "#print(type(neg_22))\n",
        "\n",
        "#convert\n",
        "\n",
        "five = float(five)\n",
        "print(five)\n",
        "print(type(five))\n",
        "\n",
        "\n",
        "zero = float(zero)\n",
        "print(zero)\n",
        "print(type(zero))\n",
        "\n",
        "neg_8 = float(neg_8)\n",
        "print(neg_8)\n",
        "print(type(neg_8))\n",
        "\n",
        "neg_22 = float(neg_22)\n",
        "print(neg_22)\n",
        "print(type(neg_22))\n",
        "\n",
        "\n",
        "#now convert back\n",
        "\n",
        "five = int(five)\n",
        "print(five)\n",
        "print(type(five))\n",
        "\n",
        "zero = int(zero)\n",
        "print(zero)\n",
        "print(type(zero))\n",
        "\n",
        "neg_8 = int(neg_8)\n",
        "print(neg_8)\n",
        "print(type(neg_8))\n",
        "\n",
        "neg_22 = int(neg_22)\n",
        "print(neg_22)\n",
        "print(type(neg_22))\n"
      ],
      "execution_count": 9,
      "outputs": [
        {
          "output_type": "stream",
          "text": [
            "5.0\n",
            "<class 'float'>\n",
            "0.0\n",
            "<class 'float'>\n",
            "-8.0\n",
            "<class 'float'>\n",
            "-22.0\n",
            "<class 'float'>\n",
            "5\n",
            "<class 'int'>\n",
            "0\n",
            "<class 'int'>\n",
            "-8\n",
            "<class 'int'>\n",
            "-22\n",
            "<class 'int'>\n"
          ],
          "name": "stdout"
        }
      ]
    },
    {
      "cell_type": "markdown",
      "metadata": {
        "id": "2XSaXy_yP7PI",
        "colab_type": "text"
      },
      "source": [
        "\n",
        "\n",
        "### P2.PY\n",
        "\n",
        "\n"
      ]
    },
    {
      "cell_type": "code",
      "metadata": {
        "id": "rAAVWP8NP7PJ",
        "colab_type": "code",
        "colab": {
          "base_uri": "https://localhost:8080/",
          "height": 357
        },
        "outputId": "02fb3483-11a2-4acc-a80d-74330e8d6932"
      },
      "source": [
        "\"\"\"\n",
        "Typcasting w. Strings\n",
        "\"\"\"\n",
        "\n",
        "# Convert these variables into strings and then back to their original data types. Print out each result as well as its data type. What do you notice about the last one?\n",
        "\n",
        "five = 5\n",
        "zero = 0\n",
        "neg_8 = -8\n",
        "T = True\n",
        "F = False\n",
        "\n",
        "#convert to string \n",
        "\n",
        "five = str(five)\n",
        "print(five)\n",
        "print(type(five))\n",
        "\n",
        "zero = str(zero)\n",
        "print(zero)\n",
        "print(type(zero))\n",
        "\n",
        "neg_8 = str(neg_8)\n",
        "print(neg_8)\n",
        "print(type(neg_8))\n",
        "\n",
        "\n",
        "T = str(T)\n",
        "print(T)\n",
        "print(type(T))\n",
        "\n",
        "F = str(F)\n",
        "print(F)\n",
        "print(type(F))\n",
        "\n",
        "#Convert back\n",
        "five = int(five)\n",
        "print(five)\n",
        "print(type(five))\n",
        "\n",
        "\n",
        "zero = int(zero)\n",
        "print(zero)\n",
        "print(type(zero))\n",
        "\n",
        "\n",
        "neg_8 = int(neg_8)\n",
        "print(neg_8)\n",
        "print(type(neg_8))\n",
        "\n",
        "T = bool(T)\n",
        "print(T)\n",
        "print(type(T))\n",
        "\n",
        "F = bool()\n",
        "print(F)\n",
        "print(type(F))\n",
        "\n",
        "## not possible to convert to boolean = false unless left empty \n"
      ],
      "execution_count": 10,
      "outputs": [
        {
          "output_type": "stream",
          "text": [
            "5\n",
            "<class 'str'>\n",
            "0\n",
            "<class 'str'>\n",
            "-8\n",
            "<class 'str'>\n",
            "True\n",
            "<class 'str'>\n",
            "False\n",
            "<class 'str'>\n",
            "5\n",
            "<class 'int'>\n",
            "0\n",
            "<class 'int'>\n",
            "-8\n",
            "<class 'int'>\n",
            "True\n",
            "<class 'bool'>\n",
            "False\n",
            "<class 'bool'>\n"
          ],
          "name": "stdout"
        }
      ]
    },
    {
      "cell_type": "markdown",
      "metadata": {
        "id": "AN9dq2nUP7PL",
        "colab_type": "text"
      },
      "source": [
        "\n",
        "\n",
        "### P3.PY\n",
        "\n",
        "\n"
      ]
    },
    {
      "cell_type": "code",
      "metadata": {
        "id": "mUZzAj_TP7PL",
        "colab_type": "code",
        "colab": {
          "base_uri": "https://localhost:8080/",
          "height": 323
        },
        "outputId": "7ab532a2-c60e-4c5f-93b0-e63d0bffa9cc"
      },
      "source": [
        "\"\"\"\n",
        "Booleans I - Typecasting w. Numbers\n",
        "\"\"\"\n",
        "\n",
        "# A) Use typecasting to turn these variables into boolean values. Print the result and the datatype of the result. \n",
        "\n",
        "one = 1\n",
        "zero = 0\n",
        "\n",
        "one = bool(one)\n",
        "print(one)\n",
        "print(type(one))\n",
        "\n",
        "zero = bool(zero)\n",
        "print(zero)\n",
        "print(type(zero))\n",
        "\n",
        "\n",
        "# B) Use typecasting to turn the resultant variables from part A into floats. Print the result and the datatype of the result.\n",
        "\n",
        "one =  float(one)\n",
        "print(one)\n",
        "print(type(one))\n",
        "\n",
        "zero = float(zero)\n",
        "print(zero)\n",
        "print(type(zero))\n",
        "\n",
        "# C) Use typecasting to turn the resultant variables from part B back into booleans. Print the result and the datatype of the result.\n",
        "\n",
        "one = bool(one)\n",
        "print(one)\n",
        "print(type(one))\n",
        "\n",
        "zero = bool(zero)\n",
        "print(zero)\n",
        "print(type(zero))\n",
        "\n",
        "\n",
        "# C) Use typecasting to turn the resultant variables from part C into integers. Print the result and the datatype of the result.\n",
        "\n",
        "one = int(one)\n",
        "print(one)\n",
        "print(type(one))\n",
        "\n",
        "zero = int(zero)\n",
        "print(zero)\n",
        "print(type(zero))\n",
        "\n",
        "# E) Use typecasting to turn the variable below into a boolean value. Print the result and the datatype of the result. \n",
        "\n",
        "ten = 10\n",
        "\n",
        "ten = bool(ten)\n",
        "print(ten)\n",
        "print(type(ten))\n"
      ],
      "execution_count": 11,
      "outputs": [
        {
          "output_type": "stream",
          "text": [
            "True\n",
            "<class 'bool'>\n",
            "False\n",
            "<class 'bool'>\n",
            "1.0\n",
            "<class 'float'>\n",
            "0.0\n",
            "<class 'float'>\n",
            "True\n",
            "<class 'bool'>\n",
            "False\n",
            "<class 'bool'>\n",
            "1\n",
            "<class 'int'>\n",
            "0\n",
            "<class 'int'>\n",
            "True\n",
            "<class 'bool'>\n"
          ],
          "name": "stdout"
        }
      ]
    },
    {
      "cell_type": "markdown",
      "metadata": {
        "id": "BYa4AgYWP7PN",
        "colab_type": "text"
      },
      "source": [
        "\n",
        "\n",
        "### P4.PY\n",
        "\n",
        "\n"
      ]
    },
    {
      "cell_type": "code",
      "metadata": {
        "id": "OjNj7ia7P7PN",
        "colab_type": "code",
        "colab": {
          "base_uri": "https://localhost:8080/",
          "height": 289
        },
        "outputId": "5ecd02fc-4768-43a1-9f3c-2b46ad1c44d7"
      },
      "source": [
        "\"\"\"\n",
        "Booleans II - Typecasting w. Strings\n",
        "\"\"\"\n",
        "\n",
        "# A) Use typecasting to turn these variables into boolean values. Print the result and the datatype of the result. \n",
        "\n",
        "one = 1\n",
        "zero = 0\n",
        "bool_true = True\n",
        "bool_false = False\n",
        "\n",
        "one = bool(one)\n",
        "print(one)\n",
        "print(type(one))\n",
        "\n",
        "zero = bool(zero)\n",
        "print(zero)\n",
        "print(type(zero))\n",
        "\n",
        "\n",
        "#bool_true and bool_false are already boolean values\n",
        "\n",
        "\n",
        "# B) Use typecasting to turn the latest values for variables 'one' and 'zero' back into integers. Print the result and the datatype of the result.\n",
        "\n",
        "one = int(one)\n",
        "print(one)\n",
        "print(type(one))\n",
        "\n",
        "zero = int(zero)\n",
        "print(zero)\n",
        "print(type(zero))\n",
        "\n",
        "# C) Use typecasting to turn the latest values for variables 'bool_true' and 'bool_false' back into boolean values. Print the result and the datatype of the result.\n",
        "\n",
        "\n",
        "#they are already booleans but I can turn them into integers and back below\n",
        "\n",
        "bool_true= int(bool_true)\n",
        "print(bool_true)\n",
        "print(type(bool_true))\n",
        "\n",
        "bool_false = int(bool_false)\n",
        "print(bool_false)\n",
        "print(type(bool_false))\n",
        "\n",
        "\n",
        "bool_true= bool(bool_true)\n",
        "print(bool_true)\n",
        "print(type(bool_true))\n",
        "\n",
        "bool_false= bool(bool_false)\n",
        "print(bool_false)\n",
        "print(type(bool_false))"
      ],
      "execution_count": 16,
      "outputs": [
        {
          "output_type": "stream",
          "text": [
            "True\n",
            "<class 'bool'>\n",
            "False\n",
            "<class 'bool'>\n",
            "1\n",
            "<class 'int'>\n",
            "0\n",
            "<class 'int'>\n",
            "1\n",
            "<class 'int'>\n",
            "0\n",
            "<class 'int'>\n",
            "True\n",
            "<class 'bool'>\n",
            "False\n",
            "<class 'bool'>\n"
          ],
          "name": "stdout"
        }
      ]
    },
    {
      "cell_type": "markdown",
      "metadata": {
        "id": "qmwv8pAdP7PQ",
        "colab_type": "text"
      },
      "source": [
        "\n",
        "\n",
        "## OPERATORS\n",
        "\n",
        "### P1.PY\n",
        "\n",
        "\n"
      ]
    },
    {
      "cell_type": "code",
      "metadata": {
        "id": "rL9soyNMP7PR",
        "colab_type": "code",
        "colab": {
          "base_uri": "https://localhost:8080/",
          "height": 102
        },
        "outputId": "a5a06297-53b2-483d-d882-040cc46dc8bb"
      },
      "source": [
        "\"\"\"\n",
        "Integer & Float Operators\n",
        "\"\"\"\n",
        "\n",
        "# Complete the specified math operations. Do the next operation on the result from the previous operation.\n",
        "\n",
        "orig_var = 100\n",
        "\n",
        "\n",
        "\n",
        "# Add 50\n",
        "orig_var = orig_var + 50\n",
        "print(orig_var)\n",
        "\n",
        "# Subtract 90\n",
        "\n",
        "orig_var = orig_var - 90\n",
        "print(orig_var)\n",
        "\n",
        "# Multiply 10\n",
        "\n",
        "orig_var = orig_var * 10\n",
        "print(orig_var)\n",
        "\n",
        "# Divide 150\n",
        "orig_var = orig_var / 150\n",
        "print(orig_var)\n",
        "\n",
        "# Modulus 3\n",
        "\n",
        "orig_var = orig_var % 3\n",
        "print(orig_var)\n"
      ],
      "execution_count": 18,
      "outputs": [
        {
          "output_type": "stream",
          "text": [
            "150\n",
            "60\n",
            "600\n",
            "4.0\n",
            "1.0\n"
          ],
          "name": "stdout"
        }
      ]
    },
    {
      "cell_type": "markdown",
      "metadata": {
        "id": "8YHIadDXP7PT",
        "colab_type": "text"
      },
      "source": [
        "\n",
        "\n",
        "### P2.PY\n",
        "\n",
        "\n"
      ]
    },
    {
      "cell_type": "code",
      "metadata": {
        "id": "quj06X85P7PV",
        "colab_type": "code",
        "colab": {
          "base_uri": "https://localhost:8080/",
          "height": 34
        },
        "outputId": "3054bc31-65c4-4b6f-87c8-ef3c03ad04a9"
      },
      "source": [
        "\"\"\"\n",
        "String Operators\n",
        "\"\"\"\n",
        "\n",
        "# Create two variables, each of which is half of a compound sentence. Do NOT add any punctuation up front. Add the two variables together, and print the result.\n",
        "\n",
        "var1 = \"I'll go to Chicago tomorrow\"\n",
        "var2 = \"and I'll go to katie's wedding\"\n",
        "strings = (var1, var2)\n",
        "', '.join(strings)\n",
        "\n",
        "#I'm unsure how to get the puncuation at the end want to ask about during class\n",
        "\n",
        "## Example compound sentence: \"I'll go to the beach today, and I'll go snorkeling.\" "
      ],
      "execution_count": 4,
      "outputs": [
        {
          "output_type": "execute_result",
          "data": {
            "text/plain": [
              "\"I'll go to Chicago tomorrow, and I'll go to katie's wedding\""
            ]
          },
          "metadata": {
            "tags": []
          },
          "execution_count": 4
        }
      ]
    },
    {
      "cell_type": "markdown",
      "metadata": {
        "id": "1SYLJ73AP7PW",
        "colab_type": "text"
      },
      "source": [
        "\n",
        "\n",
        "### P3.PY\n",
        "\n",
        "\n"
      ]
    },
    {
      "cell_type": "code",
      "metadata": {
        "id": "xSTpa1peP7PX",
        "colab_type": "code",
        "colab": {
          "base_uri": "https://localhost:8080/",
          "height": 68
        },
        "outputId": "83e66a35-6e35-4ad4-d9ae-32f090d0409e"
      },
      "source": [
        "\"\"\"\n",
        "Addition I - Numbers & Strings\n",
        "\"\"\"\n",
        "\n",
        "# Add the below sets of variables together.\n",
        "\n",
        "# A)\n",
        "a = 0\n",
        "b = 2\n",
        "\n",
        "print(a+b)\n",
        "\n",
        "\n",
        "# B)\n",
        "c = '0'\n",
        "d = '2'\n",
        "\n",
        "c= int(c)\n",
        "d= int(2)\n",
        "\n",
        "#convert to integer first\n",
        "\n",
        "print(c+d)\n",
        "\n",
        "# C)\n",
        "e = \"0\"\n",
        "f = 2\n",
        "\n",
        "e = int(e)\n",
        "\n",
        "print(e+f)"
      ],
      "execution_count": 3,
      "outputs": [
        {
          "output_type": "stream",
          "text": [
            "2\n",
            "2\n",
            "2\n"
          ],
          "name": "stdout"
        }
      ]
    },
    {
      "cell_type": "markdown",
      "metadata": {
        "id": "5gxwPtAUP7PY",
        "colab_type": "text"
      },
      "source": [
        "\n",
        "\n",
        "### P4.PY\n",
        "\n",
        "\n"
      ]
    },
    {
      "cell_type": "code",
      "metadata": {
        "id": "FyAdoGc8P7PZ",
        "colab_type": "code",
        "colab": {
          "base_uri": "https://localhost:8080/",
          "height": 68
        },
        "outputId": "cb212915-3b63-4d78-cba4-1890acd36491"
      },
      "source": [
        "\"\"\"\n",
        "Addition II - Booleans\n",
        "\"\"\"\n",
        "\n",
        "# Add the below sets of variables together.\n",
        "\n",
        "# A)\n",
        "a = True\n",
        "b = True\n",
        "\n",
        "print(a + b)\n",
        "\n",
        "\n",
        "# B)\n",
        "c = False\n",
        "d = False\n",
        "\n",
        "print (c+d)\n",
        "\n",
        "# C)\n",
        "e = True\n",
        "f = False\n",
        "\n",
        "print(e + f)"
      ],
      "execution_count": 7,
      "outputs": [
        {
          "output_type": "stream",
          "text": [
            "2\n",
            "0\n",
            "1\n"
          ],
          "name": "stdout"
        }
      ]
    },
    {
      "cell_type": "markdown",
      "metadata": {
        "id": "WCVBNn4_P7Pa",
        "colab_type": "text"
      },
      "source": [
        "\n"
      ]
    }
  ]
}