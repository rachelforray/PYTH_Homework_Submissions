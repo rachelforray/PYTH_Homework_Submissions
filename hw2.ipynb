{
  "nbformat": 4,
  "nbformat_minor": 0,
  "metadata": {
    "colab": {
      "name": " hw2.ipynb",
      "version": "0.3.2",
      "provenance": []
    },
    "kernelspec": {
      "name": "python3",
      "display_name": "Python 3"
    }
  },
  "cells": [
    {
      "cell_type": "markdown",
      "metadata": {
        "id": "MsLbtI9pfKWb",
        "colab_type": "text"
      },
      "source": [
        "<a href=\"https://colab.research.google.com/github/mottaquikarim/PYTH2/blob/master/src/PSETS/nb/hw2.ipynb\" target=\"_parent\"><img src=\"https://colab.research.google.com/assets/colab-badge.svg\" alt=\"Open In Colab\"/></a>"
      ]
    },
    {
      "cell_type": "markdown",
      "metadata": {
        "id": "kFa78QuxfKWd",
        "colab_type": "text"
      },
      "source": [
        "#  LISTS\n",
        "\n",
        "## LIST_MANIPULATION\n",
        "\n",
        "### P1.PY Phone Numbers\n"
      ]
    },
    {
      "cell_type": "code",
      "metadata": {
        "id": "RQ0GO2nIfKWe",
        "colab_type": "code",
        "outputId": "007bc225-2751-4a27-f3ae-d33776b014c2",
        "colab": {
          "base_uri": "https://localhost:8080/",
          "height": 34
        }
      },
      "source": [
        "\"\"\"\n",
        "Phone Numbers\n",
        "\"\"\"\n",
        "\n",
        "# Parse this phone number so that a computer can process\n",
        "# it. (Hint: It can't include any non-numeric\n",
        "# characters.)\n",
        "\n",
        "cell = '1.192.168.0143'\n",
        "mylist = cell.split('.')\n",
        "print(mylist)\n",
        "\n",
        "#can use split and parce out by ."
      ],
      "execution_count": 0,
      "outputs": [
        {
          "output_type": "stream",
          "text": [
            "['1', '192', '168', '0143']\n"
          ],
          "name": "stdout"
        }
      ]
    },
    {
      "cell_type": "markdown",
      "metadata": {
        "id": "DSfXsSIIfKWh",
        "colab_type": "text"
      },
      "source": [
        "\n",
        "\n",
        "### P2.PY Basic Math Ops\n",
        "\n",
        "\n"
      ]
    },
    {
      "cell_type": "code",
      "metadata": {
        "id": "rQPsmKeDfKWm",
        "colab_type": "code",
        "outputId": "79337051-694e-427e-e105-64906fb0f422",
        "colab": {
          "base_uri": "https://localhost:8080/",
          "height": 102
        }
      },
      "source": [
        "\"\"\"\n",
        "Basic Math Ops\n",
        "\"\"\"\n",
        "\n",
        "# Given the list below, assign the correct values to the variables below.\n",
        "\t# my_sum = 174\n",
        "\t# my_min = 2\n",
        "\t# my_max = 30\n",
        "\t# my_range = 2,30\n",
        "\t# my_mean = 17.4\n",
        "\n",
        "nums = [2, 19, 20, 12, 6, 24, 8, 30, 28, 25]\n",
        "\n",
        "my_sum = sum(nums)\n",
        "print(f' my_sum = {my_sum}')\n",
        "\n",
        "my_min = min(nums)\n",
        "print(f' my_min= {my_min}')\n",
        "\n",
        "my_max = max(nums)\n",
        "print(f' my_max= {my_max}')\n",
        "\n",
        "my_range = [min(nums)]\n",
        "my_range.extend ([max(nums)])\n",
        "print(f' my_range= {my_range}')\n",
        "\n",
        "my_mean = my_sum / len(nums)\n",
        "print(f' my_mean= {my_mean}')\n",
        "\n",
        "\n",
        "# Once you finish, print out each value **on its own line** in this format: \"my_median = \" etc.\n",
        "\n"
      ],
      "execution_count": 0,
      "outputs": [
        {
          "output_type": "stream",
          "text": [
            " my_sum = 174\n",
            " my_min= 2\n",
            " my_max= 30\n",
            " my_range= [2, 30]\n",
            " my_mean= 17.4\n"
          ],
          "name": "stdout"
        }
      ]
    },
    {
      "cell_type": "markdown",
      "metadata": {
        "id": "b2ZSdlzsfKWo",
        "colab_type": "text"
      },
      "source": [
        "\n",
        "\n",
        "### P3.PY Merge Lists with Duplicates\n",
        "\n"
      ]
    },
    {
      "cell_type": "code",
      "metadata": {
        "id": "JJr7vcrsfKWp",
        "colab_type": "code",
        "outputId": "13aaff62-4dac-4a47-eca6-263a09678297",
        "colab": {
          "base_uri": "https://localhost:8080/",
          "height": 134
        }
      },
      "source": [
        "\"\"\"\n",
        "Merge Lists with Duplicates\n",
        "\"\"\"\n",
        "\n",
        "# Use the two lists below to solve this problem. Print out the result from each section as you go along.\n",
        "\n",
        "list1, list2 = [2, 8, 6], [10, 4, 12]\n",
        "\n",
        "print(list1)\n",
        "\n",
        "# A) Add another instance of each item in list1 to list1 again and assign the results to list3.\n",
        "\n",
        "list_dup_1 = list1 \n",
        "print(list_dup_1)\n",
        "\n",
        "list3 = []\n",
        "list3.extend(list1)\n",
        "list3.extend(list_dup_1)\n",
        "print(list3)\n",
        "\n",
        "# B) Combine the two given lists and assign them to list4.\n",
        "#list4 = None\n",
        "\n",
        "list4 = []\n",
        "list4.extend(list3)\n",
        "list4.extend(list2)\n",
        "print(list4)\n",
        "\n",
        "# C) Replace the first 3 items in list 3 with the numbers 13, 16, 9.\n",
        "#list3[:2] = None\n",
        "\n",
        "list4[0:2] = [13, 16, 9]\n",
        "print(list4)\n",
        "\n",
        "# D) Merge list3 and list4 to create a list containing no duplicates and store this in list5.\n",
        "#list5 = None\n",
        "\n",
        "list5 = []\n",
        "list5.extend(list3)\n",
        "list5.extend(list4)\n",
        "print(list5)\n",
        "\n",
        "set_5 = set(list5)\n",
        "print(set_5)\n",
        "# Take a look at your printed statements to see the evolution of your lists with each step of this problem.\n"
      ],
      "execution_count": 12,
      "outputs": [
        {
          "output_type": "stream",
          "text": [
            "[2, 8, 6]\n",
            "[2, 8, 6]\n",
            "[2, 8, 6, 2, 8, 6]\n",
            "[2, 8, 6, 2, 8, 6, 10, 4, 12]\n",
            "[13, 16, 9, 6, 2, 8, 6, 10, 4, 12]\n",
            "[2, 8, 6, 2, 8, 6, 13, 16, 9, 6, 2, 8, 6, 10, 4, 12]\n",
            "{2, 4, 6, 8, 9, 10, 12, 13, 16}\n"
          ],
          "name": "stdout"
        }
      ]
    },
    {
      "cell_type": "markdown",
      "metadata": {
        "id": "eIjTodz-fKWs",
        "colab_type": "text"
      },
      "source": [
        "\n",
        "\n",
        "### P4.PY Spotify Playlists - Sorting\n"
      ]
    },
    {
      "cell_type": "code",
      "metadata": {
        "id": "JzK_ATeKfKWt",
        "colab_type": "code",
        "colab": {
          "base_uri": "https://localhost:8080/",
          "height": 70
        },
        "outputId": "0cca5e4a-d347-477a-d5de-055206b9a30e"
      },
      "source": [
        "\"\"\"\n",
        "Spotify Playlists - Sorting\n",
        "\"\"\"\n",
        "\n",
        "# You work for Spotify and are creating a feature for users to alphabetize their playlists by song title. Below is a list of titles from a sample playlist.\n",
        "\n",
        "playlist_titles = ['Tiny Dancer', 'At Last', 'Fortunate Son', \n",
        "'Hey Jude', 'Isn\\'t She Lovely', 'Just the Way You Are', 'I\\'m Yours',\n",
        "'Vienna', 'Roxanne', 'Dancing in the Moonlight']\n",
        "\n",
        "# Alphabetize these songs and print the result.\n",
        "\n",
        "playlist_titles.sort()\n",
        "print(playlist_titles)\n",
        "playlist_titles.sort(reverse = True)\n",
        "print(playlist_titles)\n",
        "\n",
        "# Now do the reverse."
      ],
      "execution_count": 19,
      "outputs": [
        {
          "output_type": "stream",
          "text": [
            "['At Last', 'Dancing in the Moonlight', 'Fortunate Son', 'Hey Jude', \"I'm Yours\", \"Isn't She Lovely\", 'Just the Way You Are', 'Roxanne', 'Tiny Dancer', 'Vienna']\n",
            "['Vienna', 'Tiny Dancer', 'Roxanne', 'Just the Way You Are', \"Isn't She Lovely\", \"I'm Yours\", 'Hey Jude', 'Fortunate Son', 'Dancing in the Moonlight', 'At Last']\n"
          ],
          "name": "stdout"
        }
      ]
    },
    {
      "cell_type": "markdown",
      "metadata": {
        "id": "FMPqe4i1fKWv",
        "colab_type": "text"
      },
      "source": [
        "\n",
        "\n",
        "### P5.PY Cool Runnings!\n"
      ]
    },
    {
      "cell_type": "code",
      "metadata": {
        "id": "a32CS4U8fKWx",
        "colab_type": "code",
        "colab": {
          "base_uri": "https://localhost:8080/",
          "height": 151
        },
        "outputId": "15694d31-b022-4358-d241-2dbda646dfec"
      },
      "source": [
        "\"\"\"\n",
        "Cool Runnings!\n",
        "\"\"\"\n",
        "\n",
        "# Here's a quote from the movie 'Cool Runnings'. :)\n",
        "\n",
        "# Replace the word bobsled with \"YOLO\" and print the resultant list as 4 sentences (i.e. NOT a list), each on a new line.\n",
        "\n",
        "cool_runnings = [\n",
        "\t'Feel', 'the', 'rhythm.',\n",
        "\t'Feel', 'the', 'rhyme.',\n",
        "\t'Get', 'on', 'up.',\n",
        "\t'It\\'s', 'bobsled', 'time!'\n",
        "]\n",
        "\n",
        "print(cool_runnings)\n",
        "removed_item = cool_runnings.pop(10)\n",
        "print(removed_item)\n",
        "print(cool_runnings)\n",
        "\n",
        "cool_runnings.insert(10, 'YOLO')\n",
        "print(cool_runnings)\n",
        "\n",
        "sent1 = str(cool_runnings[0] + \" \" +  cool_runnings[1] + ' ' + cool_runnings[2])\n",
        "sent2 = str(cool_runnings[3] + \" \" +  cool_runnings[4] + ' ' + cool_runnings[5])\n",
        "sent3 = str(cool_runnings[6] + \" \" +  cool_runnings[7] + ' ' + cool_runnings[8])\n",
        "sent4 = str(cool_runnings[9] + \" \" +  cool_runnings[10] + ' ' + cool_runnings[11])\n",
        "\n",
        "print(sent1)\n",
        "print(sent2)\n",
        "print(sent3)\n",
        "print(sent4)"
      ],
      "execution_count": 50,
      "outputs": [
        {
          "output_type": "stream",
          "text": [
            "['Feel', 'the', 'rhythm.', 'Feel', 'the', 'rhyme.', 'Get', 'on', 'up.', \"It's\", 'bobsled', 'time!']\n",
            "bobsled\n",
            "['Feel', 'the', 'rhythm.', 'Feel', 'the', 'rhyme.', 'Get', 'on', 'up.', \"It's\", 'time!']\n",
            "['Feel', 'the', 'rhythm.', 'Feel', 'the', 'rhyme.', 'Get', 'on', 'up.', \"It's\", 'YOLO', 'time!']\n",
            "Feel the rhythm.\n",
            "Feel the rhyme.\n",
            "Get on up.\n",
            "It's YOLO time!\n"
          ],
          "name": "stdout"
        }
      ]
    },
    {
      "cell_type": "markdown",
      "metadata": {
        "id": "lWZSjWmkfKWz",
        "colab_type": "text"
      },
      "source": [
        "\n",
        "\n",
        "## LIST_CHALLENGES\n",
        "\n",
        "### P1.PY CHALLENGE - Extensions\n"
      ]
    },
    {
      "cell_type": "code",
      "metadata": {
        "id": "LuehgbrsfKW0",
        "colab_type": "code",
        "colab": {
          "base_uri": "https://localhost:8080/",
          "height": 213
        },
        "outputId": "949bc9aa-35cd-49df-f22f-e20b74f7cb37"
      },
      "source": [
        "\"\"\"\n",
        "CHALLENGE - Extensions\n",
        "\"\"\"\n",
        "\n",
        "# ** Challenge** Add each element of the tuple1 to list1 *individually* and print the result.\n",
        "\n",
        "list1 = [6, 12, 9, 4, 10, 1]\n",
        "tuple1 = [(15,3), (6,2), (1, 8)]\n",
        "\n",
        "element1 = tuple1.index(1)\n",
        "print(element1)"
      ],
      "execution_count": 53,
      "outputs": [
        {
          "output_type": "error",
          "ename": "ValueError",
          "evalue": "ignored",
          "traceback": [
            "\u001b[0;31m---------------------------------------------------------------------------\u001b[0m",
            "\u001b[0;31mValueError\u001b[0m                                Traceback (most recent call last)",
            "\u001b[0;32m<ipython-input-53-11285dd332a8>\u001b[0m in \u001b[0;36m<module>\u001b[0;34m()\u001b[0m\n\u001b[1;32m      8\u001b[0m \u001b[0mtuple1\u001b[0m \u001b[0;34m=\u001b[0m \u001b[0;34m[\u001b[0m\u001b[0;34m(\u001b[0m\u001b[0;36m15\u001b[0m\u001b[0;34m,\u001b[0m\u001b[0;36m3\u001b[0m\u001b[0;34m)\u001b[0m\u001b[0;34m,\u001b[0m \u001b[0;34m(\u001b[0m\u001b[0;36m6\u001b[0m\u001b[0;34m,\u001b[0m\u001b[0;36m2\u001b[0m\u001b[0;34m)\u001b[0m\u001b[0;34m,\u001b[0m \u001b[0;34m(\u001b[0m\u001b[0;36m1\u001b[0m\u001b[0;34m,\u001b[0m \u001b[0;36m8\u001b[0m\u001b[0;34m)\u001b[0m\u001b[0;34m]\u001b[0m\u001b[0;34m\u001b[0m\u001b[0;34m\u001b[0m\u001b[0m\n\u001b[1;32m      9\u001b[0m \u001b[0;34m\u001b[0m\u001b[0m\n\u001b[0;32m---> 10\u001b[0;31m \u001b[0melement1\u001b[0m \u001b[0;34m=\u001b[0m \u001b[0mtuple1\u001b[0m\u001b[0;34m.\u001b[0m\u001b[0mindex\u001b[0m\u001b[0;34m(\u001b[0m\u001b[0;36m1\u001b[0m\u001b[0;34m)\u001b[0m\u001b[0;34m\u001b[0m\u001b[0;34m\u001b[0m\u001b[0m\n\u001b[0m\u001b[1;32m     11\u001b[0m \u001b[0mprint\u001b[0m\u001b[0;34m(\u001b[0m\u001b[0melement1\u001b[0m\u001b[0;34m)\u001b[0m\u001b[0;34m\u001b[0m\u001b[0;34m\u001b[0m\u001b[0m\n",
            "\u001b[0;31mValueError\u001b[0m: 1 is not in list"
          ]
        }
      ]
    },
    {
      "cell_type": "markdown",
      "metadata": {
        "id": "456SPKFgfKW3",
        "colab_type": "text"
      },
      "source": [
        "\n",
        "\n",
        "### P2.PY CHALLENGE - Core Statistics Calculations\n"
      ]
    },
    {
      "cell_type": "code",
      "metadata": {
        "id": "x6CBUufufKW3",
        "colab_type": "code",
        "colab": {
          "base_uri": "https://localhost:8080/",
          "height": 84
        },
        "outputId": "1b598bf5-8fd7-4242-a6b7-49b0b5a90f62"
      },
      "source": [
        "\"\"\"\n",
        "CHALLENGE - Core Statistics Calculations\n",
        "\"\"\"\n",
        "\n",
        "# Given the sample below, find the mean, median, mode, variance, and standard deviation of this sample. Print them out separately, but in the same format as before.\n",
        "\t# my_median = \n",
        "\t# my_mode = \n",
        "\t# my_variance = \n",
        "\t# my_sd = \n",
        "\n",
        "import statistics\n",
        "sample = [6, 19, 20, 12, 6, 24, 8, 30, 28, 25]\n",
        "my_median = statistics.median(sample)\n",
        "print(f' My median = {my_median}')\n",
        "\n",
        "my_mode = statistics.mode(sample)\n",
        "print(f' My mode = {my_mode}')\n",
        "\n",
        "my_variance = statistics.variance(sample)\n",
        "print(f' My variance = {my_variance}')\n",
        "\n",
        "my_sd = statistics.stdev(sample)\n",
        "print(f' sd = {my_sd}')\n",
        "# Once you finish, print out each value **on its own line** in this format: \"median = \" etc.\n"
      ],
      "execution_count": 65,
      "outputs": [
        {
          "output_type": "stream",
          "text": [
            " My median = 19.5\n",
            " My mode = 6\n",
            " My variance = 84.17777777777778\n",
            " sd = 9.174844836714012\n"
          ],
          "name": "stdout"
        }
      ]
    },
    {
      "cell_type": "markdown",
      "metadata": {
        "id": "dEnH1NxLfKW8",
        "colab_type": "text"
      },
      "source": [
        "\n",
        "\n",
        "#  DICTS\n",
        "\n",
        "## DICT_OPS\n",
        "\n",
        "### P1.PY Basic Dict Concepts\n"
      ]
    },
    {
      "cell_type": "code",
      "metadata": {
        "id": "ztr0EUAufKXA",
        "colab_type": "code",
        "colab": {
          "base_uri": "https://localhost:8080/",
          "height": 101
        },
        "outputId": "ee30865c-19f9-4746-fdf4-d4f726905f19"
      },
      "source": [
        "\"\"\"\n",
        "Basic Dict Concepts\n",
        "\"\"\"\n",
        "\n",
        "# A) Declare an empty dict as d1.\n",
        "\n",
        "d1 = {}\n",
        "\n",
        "\n",
        "# B) Create a dict called d2 containing the first and last names below:\n",
        "# Anthony Paollelo, Ping Qiao, Enrique Alvarez, Arjun Dhir \n",
        "\n",
        "d2 = {\n",
        "    'Anthony': 'Paollelo',\n",
        "    'Ping': 'Qiao',\n",
        "    'Enrique': 'Alvarez',\n",
        "    'Arjun': 'Dhir'\n",
        "  \n",
        "}\n",
        "\n",
        "print(d2)\n",
        "\n",
        "\n",
        "# C) Add Allison Zhang person to d2.\n",
        "\n",
        "d2['Allison'] = 'Zhang'\n",
        "print(d2)\n",
        "\n",
        "\n",
        "# D) How many people are now in d2? Print out all their *first* names in the vars below.\n",
        "\n",
        "num_people = len(d2)\n",
        "print(num_people)\n",
        "\n",
        "### first_names = \n",
        "\n",
        "first_names = d2.keys()\n",
        "print(first_names)\n",
        "\n",
        "# E) Delete a random person from d2 and print his/her name in the var below.\n",
        "\n",
        "x =d2.popitem()\n",
        "print(x)\n",
        "\n",
        "\n",
        "# F) Re-add the name you deleted to the end of d2.\n",
        "\n",
        "d2['Allison'] = 'Zhang'\n",
        "\n",
        "\n"
      ],
      "execution_count": 71,
      "outputs": [
        {
          "output_type": "stream",
          "text": [
            "{'Anthony': 'Paollelo', 'Ping': 'Qiao', 'Enrique': 'Alvarez', 'Arjun': 'Dhir'}\n",
            "{'Anthony': 'Paollelo', 'Ping': 'Qiao', 'Enrique': 'Alvarez', 'Arjun': 'Dhir', 'Allison': 'Zhang'}\n",
            "5\n",
            "dict_keys(['Anthony', 'Ping', 'Enrique', 'Arjun', 'Allison'])\n",
            "('Allison', 'Zhang')\n"
          ],
          "name": "stdout"
        }
      ]
    },
    {
      "cell_type": "markdown",
      "metadata": {
        "id": "4HCj32xGfKXE",
        "colab_type": "text"
      },
      "source": [
        "\n",
        "\n",
        "### P2.PY Merging Dicts\n",
        "\n",
        "\n"
      ]
    },
    {
      "cell_type": "code",
      "metadata": {
        "id": "x_X3GKPxfKXE",
        "colab_type": "code",
        "colab": {
          "base_uri": "https://localhost:8080/",
          "height": 34
        },
        "outputId": "e051285e-0053-4fbd-f51b-6546a53b9e80"
      },
      "source": [
        "\"\"\"\n",
        "Merging Dicts\n",
        "\"\"\"\n",
        "\n",
        "# Merge these two dicts without creating a new one.\n",
        "\n",
        "d1 = {'a': 100, 'b': 200}\n",
        "d2 = {'c': 300, 'd': 400, 'e': 500}\n",
        "\n",
        "d1.update(d2)\n",
        "print(d1)"
      ],
      "execution_count": 72,
      "outputs": [
        {
          "output_type": "stream",
          "text": [
            "{'a': 100, 'b': 200, 'c': 300, 'd': 400, 'e': 500}\n"
          ],
          "name": "stdout"
        }
      ]
    },
    {
      "cell_type": "markdown",
      "metadata": {
        "id": "lOyFA7ahfKXG",
        "colab_type": "text"
      },
      "source": [
        "\n",
        "\n",
        "### P3.PY Math with Girl Scout Cookies\n",
        "\n",
        "\n"
      ]
    },
    {
      "cell_type": "code",
      "metadata": {
        "id": "LUzg12L2fKXG",
        "colab_type": "code",
        "colab": {
          "base_uri": "https://localhost:8080/",
          "height": 185
        },
        "outputId": "0385b4fd-b687-40b9-cbb1-5a93afdbf0b7"
      },
      "source": [
        "\"\"\"\n",
        "Math with Girl Scout Cookies\n",
        "\"\"\"\n",
        "\n",
        "# Print out the number of boxes of girl scout cookies that each girl in the troop sold in the below format:\n",
        "\t# Wendy: _____\n",
        "\t# Connie: _____\n",
        "\t# Francesca: _____\n",
        "\n",
        "Wendy = {'tagalongs': 5, 'thin mints': 12, 'samoas': 8}\n",
        "Connie = {'tagalongs': 10, 'thin mints': 4, 'samoas': 12}\n",
        "Francesca = {'tagalongs': 18, 'thin mints': 14, 'samoas': 10}\n",
        "\n",
        "wendy_number = sum(Wendy.values())\n",
        "print(f' Wendy: {wendy_number}')\n",
        "\n",
        "Connie_number = sum(Connie.values())\n",
        "print(f' Connie: {Connie_number}')\n",
        "\n",
        "Francesca_number = sum(Francesca.values())\n",
        "print(f' Francesca: {Francesca_number}')\n",
        "\n",
        "\n",
        "# For each type of girl scout cookie, print out the total number of boxes sold in the below format:\n",
        "\t\n",
        "wendy_tagalongs = Wendy['tagalongs']\n",
        "connie_tagalongs = Connie['tagalongs']\n",
        "francesca_tagalongs = Francesca['tagalongs'] \n",
        "\n",
        "wendy_thin = Wendy['thin mints']\n",
        "connie_thin = Connie['thin mints']\n",
        "francesca_thin = Francesca['thin mints'] \n",
        "\n",
        "wendy_samoas = Wendy['samoas']\n",
        "connie_samoas = Connie['samoas']\n",
        "francesca_samoas = Francesca['samoas'] \n",
        "\n",
        "sum_tagalongs =wendy_tagalongs + connie_tagalongs + francesca_tagalongs\n",
        "\n",
        "print(f' Total tagalongs = {sum_tagalongs}')\n",
        "\n",
        "sum_thin =wendy_thin + connie_thin + francesca_thin\n",
        "\n",
        "print(f' Total thin mints = {sum_thin}')\n",
        "\n",
        "sum_samoas =wendy_samoas + connie_samoas + francesca_samoas\n",
        "\n",
        "print(f' Total samoas = {sum_samoas}')\n",
        "\n",
        "# For each type of girl scout cookie, print out the average number of boxes sold in the below format:\n",
        "\n",
        "average_tagalongs = sum_tagalongs/3\n",
        "print(f'average tagalongs = {average_tagalongs}')\n",
        "\n",
        "average_thin = sum_thin/3\n",
        "print(f'average thin mints = {average_thin}')\n",
        "\n",
        "average_samoas = sum_samoas/3\n",
        "print(f'average samoas = {average_samoas}')\n",
        "\n",
        "# Print out total the number of boxes of cookies the girls sold collectively as follows:\n",
        "\t# \"This year we sold ______ boxes!\"\n",
        "\n",
        "boxes_sold = sum_samoas + sum_tagalongs + sum_thin\n",
        "print(f'This year we sold {boxes_sold} boxes')"
      ],
      "execution_count": 85,
      "outputs": [
        {
          "output_type": "stream",
          "text": [
            " Wendy: 25\n",
            " Connie: 26\n",
            " Francesca: 42\n",
            " Total tagalongs = 33\n",
            " Total thin mints = 30\n",
            " Total samoas = 30\n",
            "average tagalongs = 11.0\n",
            "average thin mints = 10.0\n",
            "average samoas = 10.0\n",
            "This year we sold 93 boxes\n"
          ],
          "name": "stdout"
        }
      ]
    },
    {
      "cell_type": "markdown",
      "metadata": {
        "id": "mvrmLetHfKXI",
        "colab_type": "text"
      },
      "source": [
        "\n",
        "\n",
        "### P4.PY Inverting Keys & Values\n",
        "\n",
        "\n"
      ]
    },
    {
      "cell_type": "code",
      "metadata": {
        "id": "-29vwX_DfKXI",
        "colab_type": "code",
        "colab": {
          "base_uri": "https://localhost:8080/",
          "height": 34
        },
        "outputId": "a38fa51a-a870-4f72-9f5e-5efce857caf5"
      },
      "source": [
        "\"\"\"\n",
        "Inverting Keys & Values\n",
        "\"\"\"\n",
        "\n",
        "# Invert dict1 - make the current keys into values and the current values into keys.\n",
        "\n",
        "\n",
        "dict1 = { \"k1\" : \"v1\", \"k2\" : \"v2\", \"k3\" : \"v1\" }\n",
        "\n",
        "my_inverted_dict = dict(map(reversed, dict1.items()))\n",
        "\n",
        "print(my_inverted_dict)\n",
        "\n",
        "# doesn't preserve dups"
      ],
      "execution_count": 86,
      "outputs": [
        {
          "output_type": "stream",
          "text": [
            "{'v1': 'k3', 'v2': 'k2'}\n"
          ],
          "name": "stdout"
        }
      ]
    },
    {
      "cell_type": "markdown",
      "metadata": {
        "id": "mgYdjr9KfKXK",
        "colab_type": "text"
      },
      "source": [
        "\n",
        "\n",
        "### P5.PY Lists to Dicts\n",
        "\n",
        "\n"
      ]
    },
    {
      "cell_type": "code",
      "metadata": {
        "id": "r1ojrCwEfKXK",
        "colab_type": "code",
        "colab": {
          "base_uri": "https://localhost:8080/",
          "height": 54
        },
        "outputId": "77efff34-5f18-4744-a32e-f4adc89675f6"
      },
      "source": [
        "\"\"\"\n",
        "Lists to Dicts\n",
        "\"\"\"\n",
        "\n",
        "# Turn these two lists into a dict called grades.\n",
        "\n",
        "names = ['Taq', 'Zola', 'Valerie', 'Valerie']\n",
        "scores = [[98, 89, 92, 94], [86, 45, 98, 100], [100, 100, 100, 100], [76, 79, 80, 82]]\n",
        "\n",
        "grades = zip(names, scores)\n",
        "\n",
        "print(list(grades))"
      ],
      "execution_count": 88,
      "outputs": [
        {
          "output_type": "stream",
          "text": [
            "[('Taq', [98, 89, 92, 94]), ('Zola', [86, 45, 98, 100]), ('Valerie', [100, 100, 100, 100]), ('Valerie', [76, 79, 80, 82])]\n"
          ],
          "name": "stdout"
        }
      ]
    },
    {
      "cell_type": "markdown",
      "metadata": {
        "id": "jVX2g8VRfKXN",
        "colab_type": "text"
      },
      "source": [
        "\n",
        "\n",
        "## SEARCH_VALIDATION\n",
        "\n",
        "### P1.PY Login Credentials\n",
        "\n",
        "\n"
      ]
    },
    {
      "cell_type": "code",
      "metadata": {
        "id": "4RSWkcfrfKXN",
        "colab_type": "code",
        "colab": {
          "base_uri": "https://localhost:8080/",
          "height": 34
        },
        "outputId": "83c80562-7752-42fe-9ad9-4cb6cae0038c"
      },
      "source": [
        "\"\"\"\n",
        "Login Credentials\n",
        "\"\"\"\n",
        "\n",
        "# Imagine you work for a movie streaming service. You're in charge of safeguarding\n",
        "#user privacy by ensuring the login feature remains secure. For the sake of example only,\n",
        "#below is the dict of user login info. Normally, you wouldn't have access to see this unencrypted of course!\n",
        "\n",
        "users = {\n",
        "\t'person@email.com': 'PassWord',\n",
        "\t'someone@email.com': 'hiitsme',\n",
        "\t'me@email.com': 'myPassword',\n",
        "\t'anyone@email.com': 'IMawesome',\n",
        "\t'guy@email.com': 'pa$$wordz'\n",
        "\t# etc\n",
        "}\n",
        "\n",
        "\n",
        "# A user enters the below login info (email and password) for your app. \n",
        "#Search your database of user logins to see if this account exists and if\n",
        "#the password matches what you have on file. If the login credentials are correct,\n",
        "#print \"Successful login!\". Otherwise, print \"The login info you entered does not match any of our records.\"\n",
        "\n",
        "current_user = { 'me@email.com': 'myPassword' }\n",
        "\n",
        "print(users.get('me@email.com', \"The login info you entered does not match any of our records!\"))\n",
        "\n",
        "\n",
        "  #needs some adjustments because it doesn't test both username and password"
      ],
      "execution_count": 99,
      "outputs": [
        {
          "output_type": "stream",
          "text": [
            "myPassword\n"
          ],
          "name": "stdout"
        }
      ]
    },
    {
      "cell_type": "markdown",
      "metadata": {
        "id": "LWF9dejjfKXQ",
        "colab_type": "text"
      },
      "source": [
        "\n",
        "\n",
        "## COUNTERS_CHALLENGE\n",
        "\n",
        "### P1.PY CHALLENGE - Word Frequency\n",
        "\n",
        "\n"
      ]
    },
    {
      "cell_type": "code",
      "metadata": {
        "id": "pqP7gGwIfKXR",
        "colab_type": "code",
        "colab": {
          "base_uri": "https://localhost:8080/",
          "height": 67
        },
        "outputId": "6db514a6-9c2e-4f99-c2c6-0f17fef25371"
      },
      "source": [
        "\"\"\"\n",
        "CHALLENGE - Word Frequency\n",
        "\"\"\"\n",
        "\n",
        "# Print out the number of words in this movie quote.\n",
        "#Find and print out the most common word in the quote and how many times it was used.\n",
        "### Hint: You do not need a loop for this. Look up the Counter docs in python3.\n",
        "\n",
        "from collections import Counter\n",
        "\n",
        "princess_bride = [\n",
        "'Hello', 'my', 'name', 'is', 'Inigo', 'Montoya',\n",
        "'You', 'killed', 'my', 'father',\n",
        "'Prepare', 'to', 'die'\n",
        "]\n",
        "\n",
        "print(len(princess_bride))\n",
        "\n",
        "import statistics\n",
        "\n",
        "my_mode = statistics.mode(princess_bride)      \n",
        "print(my_mode) \n",
        "\n",
        "count_my = princess_bride.count('my')\n",
        "print(count_my)\n",
        "\n",
        "# p.s. You might use this to help analyze the most common topic in comments \n",
        "#or reviews from your users to help understand the best places to improve you product."
      ],
      "execution_count": 1,
      "outputs": [
        {
          "output_type": "stream",
          "text": [
            "13\n",
            "my\n",
            "2\n"
          ],
          "name": "stdout"
        }
      ]
    },
    {
      "cell_type": "markdown",
      "metadata": {
        "id": "y7-YSMNPfKXT",
        "colab_type": "text"
      },
      "source": [
        "\n",
        "\n",
        "### P2.PY CHALLENGE - Summing Dict Values\n",
        "\n",
        "\n"
      ]
    },
    {
      "cell_type": "code",
      "metadata": {
        "id": "mwYoVzV4fKXT",
        "colab_type": "code",
        "colab": {
          "base_uri": "https://localhost:8080/",
          "height": 34
        },
        "outputId": "0b9fc548-7445-4a80-c261-4a0a6e16d085"
      },
      "source": [
        "\"\"\"\n",
        "CHALLENGE - Summing Dict Values\n",
        "\"\"\"\n",
        "\n",
        "# Two Kindergarten teachers poll their classes for what fruit they want to eat for snacktime tomorrow.\n",
        "#Only one of them is going shopping, so she needs to know how many of each fruit she needs to buy in total. \n",
        "#Tally these up and assign them to the \"shopping_list\" dict.\n",
        "\n",
        "poll1 = {'apples': 8, 'bananas': 12}\n",
        "poll2 = {'apples': 6, 'bananas': 6, 'clementines': 8}\n",
        "\n",
        "### shopping_list = \n",
        "\n",
        "poll1_apples = poll1['apples']\n",
        "poll2_apples = poll2['apples']\n",
        "\n",
        "sum_apples = poll1_apples + poll2_apples\n",
        "\n",
        "poll1_bananas = poll1['apples']\n",
        "poll2_bananas = poll2['bananas']\n",
        "\n",
        "sum_bananas = poll1_bananas + poll2_bananas\n",
        "\n",
        "poll2_clementines = poll2['clementines']\n",
        "\n",
        "sum_celementines = poll2_clementines \n",
        "\n",
        "shopping_list = {}\n",
        "\n",
        "shopping_list[\"apples\"] = sum_apples\n",
        "shopping_list[\"bananas\"] = sum_bananas \n",
        "shopping_list[\"clementines\"] = sum_celementines\n",
        "print(shopping_list)"
      ],
      "execution_count": 5,
      "outputs": [
        {
          "output_type": "stream",
          "text": [
            "{'apples': 14, 'bananas': 14, 'clementines': 8}\n"
          ],
          "name": "stdout"
        }
      ]
    },
    {
      "cell_type": "markdown",
      "metadata": {
        "id": "yqIQn7KafKXW",
        "colab_type": "text"
      },
      "source": [
        "\n"
      ]
    }
  ]
}