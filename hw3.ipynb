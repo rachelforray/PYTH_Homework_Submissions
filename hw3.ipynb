{
  "nbformat": 4,
  "nbformat_minor": 0,
  "metadata": {
    "colab": {
      "name": "hw3.ipynb",
      "provenance": []
    },
    "kernelspec": {
      "name": "python3",
      "display_name": "Python 3"
    }
  },
  "cells": [
    {
      "cell_type": "markdown",
      "metadata": {
        "id": "HyjFOTDzzoGB",
        "colab_type": "text"
      },
      "source": [
        "<a href=\"https://colab.research.google.com/github/mottaquikarim/PYTH2/blob/master/src/PSETS/nb/homework_3_loops.ipynb\" target=\"_parent\"><img src=\"https://colab.research.google.com/assets/colab-badge.svg\" alt=\"Open In Colab\"/></a>"
      ]
    },
    {
      "cell_type": "markdown",
      "metadata": {
        "id": "lOL-K2u0zoGI",
        "colab_type": "text"
      },
      "source": [
        "#  LOOPS\n",
        "\n",
        "## LOOP_BASICS\n",
        "\n",
        "### P1.PY\n",
        "\n",
        "\n"
      ]
    },
    {
      "cell_type": "code",
      "metadata": {
        "id": "axd_Fvt0zoGJ",
        "colab_type": "code",
        "outputId": "e6cad8a7-8425-498a-c985-e5c29adb2797",
        "colab": {
          "base_uri": "https://localhost:8080/",
          "height": 50
        }
      },
      "source": [
        "\"\"\"\n",
        "Odds & Evens\n",
        "\"\"\"\n",
        "\n",
        "# Use a loop to make a list of all odd numbers between 1 and 10 and another list with all the evens. When done, print the lists.\n",
        "\n",
        "odds = []\n",
        "\n",
        "evens = []\n",
        "\n",
        "number_range = range(1,11)\n",
        "\n",
        "for i in number_range:\n",
        "  if i % 2 == 0:\n",
        "    evens.append(i)\n",
        "  else: \n",
        "    odds.append(i)\n",
        "    \n",
        "    \n",
        "print(f' even numbers: {evens}')\n",
        "print(f' odd numbers: {odds}')"
      ],
      "execution_count": 0,
      "outputs": [
        {
          "output_type": "stream",
          "text": [
            " even numbers: [2, 4, 6, 8, 10]\n",
            " odd numbers: [1, 3, 5, 7, 9]\n"
          ],
          "name": "stdout"
        }
      ]
    },
    {
      "cell_type": "markdown",
      "metadata": {
        "id": "BESB0l63zoGL",
        "colab_type": "text"
      },
      "source": [
        "\n",
        "\n",
        "### P2.PY\n",
        "\n",
        "\n"
      ]
    },
    {
      "cell_type": "code",
      "metadata": {
        "id": "wXFdy-3LzoGM",
        "colab_type": "code",
        "outputId": "cc02c88d-1e81-42ca-a3c3-0de5a8d932b9",
        "colab": {
          "base_uri": "https://localhost:8080/",
          "height": 67
        }
      },
      "source": [
        "\"\"\"\n",
        "Lists with Duplicates\n",
        "\"\"\"\n",
        "\n",
        "# First, print list a below as it is now.\n",
        "\n",
        "a = [2, 4, 10, 20, 5, 2, 20, 4]\n",
        "b = [13, 2, 25, 20, 4, 8]\n",
        "\n",
        "print(a)\n",
        "\n",
        "# Using a loop, remove the duplicate items from list a and print out the updated list.\n",
        "\n",
        "new_a = []\n",
        "for idx, item in enumerate(a):\n",
        "  if item in a [idx+1:]:\n",
        "      continue\n",
        "      \n",
        "  new_a.append(item)\n",
        "print(new_a)\n",
        "\n",
        "\n",
        "# Using a loop, merge list b into list a without adding any duplicates.\n",
        "\n",
        "for item in b:\n",
        "  if b in a:\n",
        "    continue \n",
        "    \n",
        "  a.append(item)\n",
        "print(b)"
      ],
      "execution_count": 0,
      "outputs": [
        {
          "output_type": "stream",
          "text": [
            "[2, 4, 10, 20, 5, 2, 20, 4]\n",
            "[10, 5, 2, 20, 4]\n",
            "[13, 2, 25, 20, 4, 8]\n"
          ],
          "name": "stdout"
        }
      ]
    },
    {
      "cell_type": "markdown",
      "metadata": {
        "id": "eeRZ9p_vzoGN",
        "colab_type": "text"
      },
      "source": [
        "\n",
        "\n",
        "### P3.PY\n",
        "\n",
        "\n"
      ]
    },
    {
      "cell_type": "code",
      "metadata": {
        "id": "4NgF1M1TzoGO",
        "colab_type": "code",
        "outputId": "1f73d55c-1c2a-4ab6-905e-6215a36d3220",
        "colab": {
          "base_uri": "https://localhost:8080/",
          "height": 67
        }
      },
      "source": [
        "\"\"\"\n",
        "Temperature Conversions\n",
        "\"\"\"\n",
        "\n",
        "# You're studying climate change, and over the last 3 years, you've recorded the temperature at noon every day in degrees Fahrenheit (F). The var sampleF holds a portion of those recordings. \n",
        "\n",
        "sampleF = [71.6, 82.4, 91.4, 107.6, 125.6]\n",
        "\n",
        "# Convert each item in this list into degrees Celsius and add the results to a dict called sample_temps so that the conversion of each day's temperature is easily accessible. For reference, the conversion equation between F and C is:\n",
        "# Celsius = (Fahrenheit - 32) * 5.0/9.0\n",
        "\n",
        "\n",
        "celsius_temps = []\n",
        "\n",
        "for i in sampleF:\n",
        "  celsius_temps.append((i-32)* 5.0/9.0)\n",
        "print(celsius_temps)\n",
        "\n",
        "rounded_celsius_temps = [ round(elem,2) for elem in celsius_temps ]\n",
        "print(rounded_celsius_temps)\n",
        "\n",
        "temperature_conversions = {}\n",
        "temperature_conversions = dict(zip(sampleF,rounded_celsius_temps))\n",
        "print(temperature_conversions)\n"
      ],
      "execution_count": 0,
      "outputs": [
        {
          "output_type": "stream",
          "text": [
            "[21.999999999999996, 28.000000000000004, 33.0, 42.0, 52.0]\n",
            "[22.0, 28.0, 33.0, 42.0, 52.0]\n",
            "{71.6: 22.0, 82.4: 28.0, 91.4: 33.0, 107.6: 42.0, 125.6: 52.0}\n"
          ],
          "name": "stdout"
        }
      ]
    },
    {
      "cell_type": "markdown",
      "metadata": {
        "id": "4p7GEX6LzoGQ",
        "colab_type": "text"
      },
      "source": [
        "\n",
        "\n",
        "### P4.PY\n",
        "\n",
        "\n"
      ]
    },
    {
      "cell_type": "code",
      "metadata": {
        "id": "uhpuRfMWzoGR",
        "colab_type": "code",
        "outputId": "4d15417c-a4b4-4357-87e4-26a3a98a249a",
        "colab": {
          "base_uri": "https://localhost:8080/",
          "height": 67
        }
      },
      "source": [
        "\"\"\"\n",
        "Factorial\n",
        "\"\"\"\n",
        "\n",
        "# Find the factorial of a number input by a user. \n",
        "#Then print out the factors within the factorial and then print out the actual numeric answer. \n",
        "#Hint: The formula for a factorial is n! = (n-1)*n.\n",
        "\n",
        "\n",
        "# Example output:8! = 8*7*6*5*4*3*2*1\n",
        "#8! = 40320\n",
        "\n",
        "user_input = input('Enter a number to find its factorial: ')\n",
        "\n",
        "num = int(user_input)\n",
        "r = range(1, num + 1)\n",
        "\n",
        "factorial = []\n",
        "\n",
        "current_product = 1\n",
        "for i in r:\n",
        "    current_product = current_product * i \n",
        "print(current_product)\n",
        "print(num)"
      ],
      "execution_count": 0,
      "outputs": [
        {
          "output_type": "stream",
          "text": [
            "Enter a number to find its factorial: 5\n",
            "120\n",
            "5\n"
          ],
          "name": "stdout"
        }
      ]
    },
    {
      "cell_type": "markdown",
      "metadata": {
        "id": "PPko1WUuzoGT",
        "colab_type": "text"
      },
      "source": [
        "\n",
        "\n",
        "### P5.PY\n",
        "\n",
        "\n"
      ]
    },
    {
      "cell_type": "code",
      "metadata": {
        "id": "sf5HkGUDzoGT",
        "colab_type": "code",
        "outputId": "68c0b66b-330d-4313-a91b-f1cae66cbe01",
        "colab": {
          "base_uri": "https://localhost:8080/",
          "height": 50
        }
      },
      "source": [
        "\"\"\"\n",
        "Factors\n",
        "\"\"\"\n",
        "\n",
        "# Find all factors of a number that a user inputs and print out 'The factors of <the_user_input_number> are: '.\n",
        "\n",
        "user_input = input('Enter a number to find its factors: ')\n",
        "\n",
        "n = 1\n",
        "x = int(user_input)\n",
        "\n",
        "R = range(n,x+1)\n",
        "\n",
        "\n",
        "factors = []\n",
        "not_factors = []\n",
        "\n",
        "for num in R:\n",
        "  if x % num == 0:\n",
        "    factors.append(num)\n",
        "  else:\n",
        "    not_factors.append(num) \n",
        "print(factors)\n",
        "    "
      ],
      "execution_count": 0,
      "outputs": [
        {
          "output_type": "stream",
          "text": [
            "Enter a number to find its factors: 12\n",
            "[1, 2, 3, 4, 6, 12]\n"
          ],
          "name": "stdout"
        }
      ]
    },
    {
      "cell_type": "markdown",
      "metadata": {
        "id": "qRW3QQ1YzoGV",
        "colab_type": "text"
      },
      "source": [
        "\n",
        "\n",
        "### P6.PY\n",
        "\n",
        "\n"
      ]
    },
    {
      "cell_type": "code",
      "metadata": {
        "id": "5X5AGxYZzoGW",
        "colab_type": "code",
        "outputId": "0c9d7527-7a0b-4443-f09a-933880494cc5",
        "colab": {
          "base_uri": "https://localhost:8080/",
          "height": 118
        }
      },
      "source": [
        "\"\"\"\n",
        "GCD\n",
        "\"\"\"\n",
        "\n",
        "# Find the greatest common denominator (GCD) of two number input by a user. \n",
        "# Then print out 'The GCD of <first number> and <second number> is <your result>.'\n",
        "\n",
        "print('Enter two numbers to find their greatest common denominator.')\n",
        "\n",
        "user_input1 = input('First number: ')\n",
        "user_input2 = input('Second number: ')\n",
        "\n",
        "n1 = int(user_input1)\n",
        "n2 = int(user_input2)\n",
        "\n",
        "n1_range = range(1, n1+1)\n",
        "n1_factors = []\n",
        "for i in n1_range:\n",
        "  if n1 % i == 0:\n",
        "    n1_factors.append(i)\n",
        "  \n",
        "  \n",
        "n2_range = range(1, n2+1)\n",
        "n2_factors = []\n",
        "for i in n2_range:\n",
        "   if n2 % i == 0:\n",
        "    n2_factors.append(i)\n",
        "\n",
        "print(n1_factors, n2_factors)\n",
        "    \n",
        "n1_set = set(n1_factors)\n",
        "n2_set = set(n2_factors)\n",
        "\n",
        "common_factors = n1_set & n2_set  # this is the intersection \n",
        "print(common_factors)\n",
        "\n",
        "gcf = max(common_factors)\n",
        "print(gcf)"
      ],
      "execution_count": 0,
      "outputs": [
        {
          "output_type": "stream",
          "text": [
            "Enter two numbers to find their greatest common denominator.\n",
            "First number: 124\n",
            "Second number: 38\n",
            "[1, 2, 4, 31, 62, 124] [1, 2, 19, 38]\n",
            "{1, 2}\n",
            "2\n"
          ],
          "name": "stdout"
        }
      ]
    },
    {
      "cell_type": "markdown",
      "metadata": {
        "id": "w1gXLHbvzoGX",
        "colab_type": "text"
      },
      "source": [
        "\n",
        "\n",
        "## DICT_LOOPS\n",
        "\n",
        "### P1.PY\n",
        "\n",
        "\n"
      ]
    },
    {
      "cell_type": "code",
      "metadata": {
        "id": "DEDd7JpHzoGY",
        "colab_type": "code",
        "outputId": "e06320d6-8bc2-4ce9-b6c4-d08864d58f4a",
        "colab": {
          "base_uri": "https://localhost:8080/",
          "height": 118
        }
      },
      "source": [
        "\"\"\"\n",
        "Contacts\n",
        "\"\"\"\n",
        "\n",
        "# You went to a conference and got people to sign up for text updates from your startup.\n",
        "# Go through this dict to make the phone numbers readable to a computer. \n",
        "\n",
        "# Hint: It can't include any non-numeric\n",
        "# characters.\n",
        "\n",
        "contacts = {\n",
        "\t'Jamie': '1.192.168.0143',\n",
        "\t'Kartik': '1.837.209.1121',\n",
        "\t'Grant': '1.826.386.1758',\n",
        "\t'Brandon': '1.935.297.9447',\n",
        "\t'Monique': '1.702.716.5353',\n",
        "\t'Sohom': '1.576.619.6100',\n",
        "}\n",
        "\n",
        "\n",
        "\n",
        "\n",
        "for key,values in contacts.items() :\n",
        "    print(f' {key} : {values.replace(\".\",\"\")}')\n",
        "\n"
      ],
      "execution_count": 0,
      "outputs": [
        {
          "output_type": "stream",
          "text": [
            " Jamie : 11921680143\n",
            " Kartik : 18372091121\n",
            " Grant : 18263861758\n",
            " Brandon : 19352979447\n",
            " Monique : 17027165353\n",
            " Sohom : 15766196100\n"
          ],
          "name": "stdout"
        }
      ]
    },
    {
      "cell_type": "markdown",
      "metadata": {
        "id": "a8ja9aB0zoGb",
        "colab_type": "text"
      },
      "source": [
        "\n",
        "\n",
        "### P2.PY\n",
        "\n",
        "\n"
      ]
    },
    {
      "cell_type": "code",
      "metadata": {
        "id": "Yc9MJTaozoGc",
        "colab_type": "code",
        "outputId": "f79c9e24-67e4-480a-efa1-d69c58f2ba59",
        "colab": {
          "base_uri": "https://localhost:8080/",
          "height": 87
        }
      },
      "source": [
        "\"\"\"\n",
        "Grades\n",
        "\"\"\"\n",
        "# Here's a dict containing students' grades from the semester's assignments.\n",
        "\n",
        "students = {\n",
        "  'Ashton': [86, 45, 98, 100],\n",
        "  'Sierra': [100, 100, 100, 100],\n",
        "  'Zach': [38, 49, 90, 87],\n",
        "  'Manuel': [98, 92, 86, 100],\n",
        "  'Felicia': [94, 87, 89, 95],\n",
        "  'Ankur': [75, 77, 77, 85],\n",
        "  'Ananya': [98, 94, 87, 92],\n",
        "  'Nick': [79, 84, 89, 90],\n",
        "  'Olivia': [83, 91, 69, 85],\n",
        "  'Molly': [83, 74, 72, 90]\n",
        "}\n",
        "\n",
        "# p 1.1) Create a dict called num_grades to store each student's average numerical grade for the semester.\n",
        "\n",
        "import statistics\n",
        "\n",
        "num_grades = {}\n",
        "for k,v in students.items():\n",
        "    num_grades[k] = sum(v)/ float(len(v))\n",
        "print(num_grades)\n",
        "\n",
        "# p 1.2) Create a dict called letter_grades to store each student's final letter grade for the semester. Use A, B, C, D, and F as grades per the standard grading scale.\n",
        "\n",
        "letter_grades = {}\n",
        "for k,v in num_grades.items(): \n",
        "  if v > 90:\n",
        "    letter_grades[k] = 'A'\n",
        "  elif v > 80:\n",
        "    letter_grades[k] = 'B'\n",
        "  elif v > 70:\n",
        "    letter_grades[k] = 'C'\n",
        "  elif v > 60:\n",
        "    letter_grades[k] = 'D'\n",
        "  else:\n",
        "    letter_grades[k]= 'F'\n",
        "print(letter_grades)\n",
        "\n",
        "\n",
        "\n",
        "# p 1.3) Create a list of honor roll students (i.e. students who got A's).\n",
        "\n",
        "honor_roll = []\n",
        "for k,v in letter_grades.items():\n",
        "  if v == 'A':\n",
        "    honor_roll.append(k)\n",
        "print(honor_roll)"
      ],
      "execution_count": 0,
      "outputs": [
        {
          "output_type": "stream",
          "text": [
            "{'Ashton': 82.25, 'Sierra': 100.0, 'Zach': 66.0, 'Manuel': 94.0, 'Felicia': 91.25, 'Ankur': 78.5, 'Ananya': 92.75, 'Nick': 85.5, 'Olivia': 82.0, 'Molly': 79.75}\n",
            "{'Ashton': 'B', 'Sierra': 'A', 'Zach': 'D', 'Manuel': 'A', 'Felicia': 'A', 'Ankur': 'C', 'Ananya': 'A', 'Nick': 'B', 'Olivia': 'B', 'Molly': 'C'}\n",
            "['Sierra', 'Manuel', 'Felicia', 'Ananya']\n"
          ],
          "name": "stdout"
        }
      ]
    },
    {
      "cell_type": "markdown",
      "metadata": {
        "id": "eFLEIxnbzoGe",
        "colab_type": "text"
      },
      "source": [
        "\n",
        "\n",
        "### P3.PY\n",
        "\n",
        "\n"
      ]
    },
    {
      "cell_type": "code",
      "metadata": {
        "id": "ywIRkMLqzoGf",
        "colab_type": "code",
        "outputId": "87832c34-f486-40bb-f624-acdfef619631",
        "colab": {
          "base_uri": "https://localhost:8080/",
          "height": 50
        }
      },
      "source": [
        "\"\"\"\n",
        "Price Inventory\n",
        "\"\"\"\n",
        "\n",
        "# Imagine you're the owner of an Italian restaurant. You're evaluating your pricing\n",
        "#to make sure it's up to date with the latest costs of making each menu item \n",
        "#(see the menu prices and costs dicts below). Evaluate whether each item's price returns a profit margin\n",
        "#of at least $1.00. If it doesn't, update the menu_prices dict with a new price that gives the item a $1.00 profit margin. \n",
        "#Then print out the items which you've repriced in a new dict called price_increases.\n",
        "\n",
        "menu_prices = {\n",
        "\t'fettuccine bolognese': 14.99,\n",
        "\t'gnocchi gorgonzola': 10.99,\n",
        "\t'chicken parmigiano': 13.99,\n",
        "\t'butternut squash risotto': 9.99,\n",
        "\t'spaghetti carbonara': 12.99,\n",
        "\t'pizza margherita': 12.99,\n",
        "\t'chicken marsala': 13.99\n",
        "}\n",
        "\n",
        "menu_costs = {\n",
        "\t'fettuccine bolognese': 12.50,\n",
        "\t'gnocchi gorgonzola': 11.25,\n",
        "\t'chicken parmigiano': 11.75,\n",
        "\t'butternut squash risotto': 6.33,\n",
        "\t'spaghetti carbonara': 12.90,\n",
        "\t'pizza margherita': 14.00,\n",
        "\t'chicken marsala': 11.75\n",
        "}\n",
        "\n",
        "# price_increases = \n",
        "\n",
        "profit = []\n",
        "\n",
        "no_profit = []\n",
        "\n",
        "for k,v in zip(menu_prices,menu_costs):\n",
        "  if (menu_prices[v] - menu_costs[v]) >= 1.00:\n",
        "    profit.append(menu_costs[k])\n",
        "  else:\n",
        "    no_profit.append(menu_costs[k])\n",
        "print(profit)\n",
        "print(no_profit)\n"
      ],
      "execution_count": 0,
      "outputs": [
        {
          "output_type": "stream",
          "text": [
            "[12.5, 11.75, 6.33, 11.75]\n",
            "[11.25, 12.9, 14.0]\n"
          ],
          "name": "stdout"
        }
      ]
    },
    {
      "cell_type": "markdown",
      "metadata": {
        "id": "6cvDUOzozoGh",
        "colab_type": "text"
      },
      "source": [
        "\n",
        "\n",
        "## CONTROL_FLOW\n",
        "\n",
        "### P1.PY\n",
        "\n",
        "\n"
      ]
    },
    {
      "cell_type": "code",
      "metadata": {
        "id": "LrxgmEd-zoGh",
        "colab_type": "code",
        "outputId": "f7704fae-5f94-4144-9595-50d8b93ccc20",
        "colab": {
          "base_uri": "https://localhost:8080/",
          "height": 67
        }
      },
      "source": [
        "\"\"\"\n",
        "Control Flow - I\n",
        "\"\"\"\n",
        "\n",
        "# Print the numbers in the range (5:12) until you find a factor of 4. \n",
        "#If the range the user enters contains no factors of 4, print \n",
        "#\"There are no factors of 4 in this interval.\"\n",
        "# HINT: for the range 5,12 there will likely be multiples of 4 present - to assert the final requirement, \n",
        "#try changing range boundaries\n",
        "\n",
        "r = range(1,3)\n",
        "\n",
        "\n",
        "\n",
        "multiples = []\n",
        "\n",
        "for i in r:\n",
        "  if i % 4 == 0:\n",
        "    multiples.append(i)\n",
        "    print(f' multiple of 4 found {i}')\n",
        "    continue\n",
        "  print(f' not a multiple, {i}')\n",
        "  \n",
        "if len(multiples) < 1: \n",
        "  print(\"no multples found\")\n",
        "  \n",
        "    \n",
        "  \n"
      ],
      "execution_count": 0,
      "outputs": [
        {
          "output_type": "stream",
          "text": [
            " not a multiple, 1\n",
            " not a multiple, 2\n",
            "no multples found\n"
          ],
          "name": "stdout"
        }
      ]
    },
    {
      "cell_type": "markdown",
      "metadata": {
        "id": "-cBi_FdpzoGk",
        "colab_type": "text"
      },
      "source": [
        "\n",
        "\n",
        "### P2.PY\n",
        "\n",
        "\n"
      ]
    },
    {
      "cell_type": "code",
      "metadata": {
        "id": "ApA7OnyszoGk",
        "colab_type": "code",
        "outputId": "f86a80f5-24fb-4ba7-b231-80ff5149875a",
        "colab": {
          "base_uri": "https://localhost:8080/",
          "height": 101
        }
      },
      "source": [
        "\"\"\"\n",
        "Control Flow II\n",
        "\"\"\"\n",
        "\n",
        "# Write a Python program that prints all the numbers from 0 to 6 except 3 and 6. Note : Use 'continue' statement. \n",
        "\n",
        "r = range(0, 7)\n",
        "\n",
        "for i in r:\n",
        "  if i == 3: \n",
        "    continue\n",
        "  if i ==6:\n",
        "    continue\n",
        "  else:\n",
        "    print(i)"
      ],
      "execution_count": 0,
      "outputs": [
        {
          "output_type": "stream",
          "text": [
            "0\n",
            "1\n",
            "2\n",
            "4\n",
            "5\n"
          ],
          "name": "stdout"
        }
      ]
    },
    {
      "cell_type": "markdown",
      "metadata": {
        "id": "Q_tfnvHlzoGm",
        "colab_type": "text"
      },
      "source": [
        "\n",
        "\n",
        "## SHAPES\n",
        "\n",
        "### P1.PY\n",
        "\n",
        "\n"
      ]
    },
    {
      "cell_type": "code",
      "metadata": {
        "id": "uVcUyXuSzoGm",
        "colab_type": "code",
        "outputId": "3dca0a5a-2d32-4938-c8ea-ecc84ce053a0",
        "colab": {
          "base_uri": "https://localhost:8080/",
          "height": 118
        }
      },
      "source": [
        "\"\"\"\n",
        "Build a Triangle\n",
        "\"\"\"\n",
        "\n",
        "# Use a while loop to print a 5-level triangle of stars that looks like this:\n",
        "\n",
        "\"\"\"\n",
        "*\n",
        "**\n",
        "***\n",
        "****\n",
        "*****\n",
        "\"\"\"\n",
        "\n",
        "\n",
        "i = 0\n",
        "star = '*'\n",
        "\n",
        "\n",
        "while i < 6:\n",
        "  print(i * star)\n",
        "  i += 1"
      ],
      "execution_count": 0,
      "outputs": [
        {
          "output_type": "stream",
          "text": [
            "\n",
            "*\n",
            "**\n",
            "***\n",
            "****\n",
            "*****\n"
          ],
          "name": "stdout"
        }
      ]
    },
    {
      "cell_type": "markdown",
      "metadata": {
        "id": "WsfaW02ZzoGo",
        "colab_type": "text"
      },
      "source": [
        "\n",
        "\n",
        "### P2.PY\n",
        "\n",
        "\n"
      ]
    },
    {
      "cell_type": "code",
      "metadata": {
        "id": "9YgLwifqzoGo",
        "colab_type": "code",
        "outputId": "4bc0606d-310b-4e1f-c41c-13472176e4e9",
        "colab": {
          "base_uri": "https://localhost:8080/",
          "height": 34
        }
      },
      "source": [
        "\"\"\"\n",
        "Build a Pyramid\n",
        "\"\"\"\n",
        "\n",
        "# Use a while loop to print a pyramid of stars that looks like this:\n",
        "\n",
        "\"\"\"\n",
        "    *\n",
        "   ***\n",
        "  *****\n",
        " *******\n",
        "*********\n",
        "\"\"\"\n",
        "\n",
        "\n",
        "\n",
        "#unsure "
      ],
      "execution_count": 1,
      "outputs": [
        {
          "output_type": "execute_result",
          "data": {
            "text/plain": [
              "'\\n    *\\n   ***\\n  *****\\n *******\\n*********\\n'"
            ]
          },
          "metadata": {
            "tags": []
          },
          "execution_count": 1
        }
      ]
    },
    {
      "cell_type": "markdown",
      "metadata": {
        "id": "8aFZsQLNzoGq",
        "colab_type": "text"
      },
      "source": [
        "\n",
        "\n",
        "### P3.PY\n",
        "\n",
        "\n"
      ]
    },
    {
      "cell_type": "code",
      "metadata": {
        "id": "8mmKwBrszoGr",
        "colab_type": "code",
        "colab": {}
      },
      "source": [
        "\"\"\"\n",
        "Build a Diamond\n",
        "\"\"\"\n",
        "\n",
        "# Use a while loop to print a diamond of stars that looks like this:\n",
        "\n",
        "\"\"\"\n",
        "    *\n",
        "   ***\n",
        "  *****\n",
        " *******\n",
        "*********\n",
        " *******\n",
        "  *****\n",
        "   ***\n",
        "    *\n",
        "\"\"\"\n"
      ],
      "execution_count": 0,
      "outputs": []
    },
    {
      "cell_type": "markdown",
      "metadata": {
        "id": "Acw1vLGFzoGs",
        "colab_type": "text"
      },
      "source": [
        "\n",
        "\n",
        "## LOOP_CHALLENGES\n",
        "\n",
        "### P1.PY\n",
        "\n",
        "\n"
      ]
    },
    {
      "cell_type": "code",
      "metadata": {
        "id": "qT1ZFrkYzoGt",
        "colab_type": "code",
        "colab": {}
      },
      "source": [
        "#optional\n",
        "\n",
        "\"\"\"\n",
        "Valid Passwords\n",
        "\"\"\"\n",
        "\n",
        "# Check the validity of password input by users based on the below security requirements: At least 1 letter between [a-z] and 1 letter between [A-Z].\n",
        "\"\"\"\n",
        "# At least 1 letter between [a-z] and 1 letter between [A-Z].\n",
        "#At least 1 number between [0-9].\n",
        "At least 1 character from [$#@].\n",
        "Minimum length 6 characters.\n",
        "Maximum length 16 characters.\n",
        "\"\"\"\n",
        "\n",
        "\n",
        "# Hint: Look up the documentation for the \"re\" library and it's \".search()\" method.\n",
        "\n",
        "# p = input(\"Input your password: \")"
      ],
      "execution_count": 0,
      "outputs": []
    },
    {
      "cell_type": "markdown",
      "metadata": {
        "id": "lKCk-R0SzoGv",
        "colab_type": "text"
      },
      "source": [
        "\n",
        "\n",
        "### P2.PY\n",
        "\n",
        "\n"
      ]
    },
    {
      "cell_type": "code",
      "metadata": {
        "id": "LnR9H_66zoGw",
        "colab_type": "code",
        "colab": {}
      },
      "source": [
        "#optional\n",
        "\n",
        "\"\"\"\n",
        "Prime Numbers I\n",
        "\"\"\"\n",
        "\n",
        "# Check if a number input by a user is prime or not. If it is NOT a prime number, print out that it is not a prime number. If it IS a prime number, print out that it is a prime number and give an example of two of its factors. Hint: Prime numbers must be greater than 1.\n",
        "\n",
        "# Example of output for a NON-prime:\n",
        "# 12 is not a prime number\n",
        "# For example, 2 x 6 = 12\n",
        "\n",
        "\n",
        "\n",
        "# user_input = input(\"Enter a number to check if it's prime: \")\n",
        "\n"
      ],
      "execution_count": 0,
      "outputs": []
    },
    {
      "cell_type": "markdown",
      "metadata": {
        "id": "LJuen4elzoG6",
        "colab_type": "text"
      },
      "source": [
        "\n"
      ]
    }
  ]
}