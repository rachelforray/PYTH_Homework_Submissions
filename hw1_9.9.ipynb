{
  "nbformat": 4,
  "nbformat_minor": 0,
  "metadata": {
    "colab": {
      "name": "hw1.ipynb",
      "version": "0.3.2",
      "provenance": []
    },
    "kernelspec": {
      "name": "python3",
      "display_name": "Python 3"
    }
  },
  "cells": [
    {
      "cell_type": "markdown",
      "metadata": {
        "id": "JJbnvY-xOON0",
        "colab_type": "text"
      },
      "source": [
        "<a href=\"https://colab.research.google.com/github/mottaquikarim/PYTH2/blob/master/src/PSETS/nb/conditionals_inclass_psets.ipynb\" target=\"_parent\"><img src=\"https://colab.research.google.com/assets/colab-badge.svg\" alt=\"Open In Colab\"/></a>"
      ]
    },
    {
      "cell_type": "markdown",
      "metadata": {
        "id": "zDchizY1OON2",
        "colab_type": "text"
      },
      "source": [
        "#  CONDITIONALS\n",
        "\n",
        "## WEATHER\n",
        "\n",
        "### P1.PY\n",
        "\n",
        "\n"
      ]
    },
    {
      "cell_type": "code",
      "metadata": {
        "id": "Q3wnkgR5OON2",
        "colab_type": "code",
        "outputId": "42b31a24-a7b0-4122-e79e-ae65ae2c72ac",
        "colab": {
          "base_uri": "https://localhost:8080/",
          "height": 249
        }
      },
      "source": [
        "\"\"\"\n",
        "Weather I - Do you need boots?\n",
        "\"\"\"\n",
        "\n",
        "# Use the values of the vars defined below to ouput the correct contextual answer to the questions below. (Note: The variables themselves ARE the questions.)\n",
        "\n",
        "# Example:\n",
        "## am_i_hungry = False\n",
        "## am_i_tired = True\n",
        "## do_i_need_to_stay_awake = False\n",
        "\n",
        "## should_i_drink_coffee_now = am_i_tired and do_i_need_to_stay_awake\n",
        "\n",
        "## ^^ This ^^ evaluates to False. If you're tired and don't need to stay awake, you don't need to drink coffee!\n",
        "\n",
        "\n",
        "is_it_raining = True\n",
        "is_it_snowing = False\n",
        "not_snowing = True\n",
        "not_raining = False\n",
        "\n",
        "do_i_need_snow_boots = is_it_snowing\n",
        "print(do_i_need_snow_boots)\n",
        "\n",
        "can_i_skip_snow_boots = not_snowing\n",
        "print(can_i_skip_snowboots)\n",
        "\n",
        "do_i_need_rain_boots = is_it_raining\n",
        "print(do_i_need_rain_boots)\n",
        "\n",
        "can_i_skip_rain_boots = not_raining \n",
        "print(can_i_skip_rain_boots)\n",
        "\n"
      ],
      "execution_count": 1,
      "outputs": [
        {
          "output_type": "stream",
          "text": [
            "False\n"
          ],
          "name": "stdout"
        },
        {
          "output_type": "error",
          "ename": "NameError",
          "evalue": "ignored",
          "traceback": [
            "\u001b[0;31m---------------------------------------------------------------------------\u001b[0m",
            "\u001b[0;31mNameError\u001b[0m                                 Traceback (most recent call last)",
            "\u001b[0;32m<ipython-input-1-999963659736>\u001b[0m in \u001b[0;36m<module>\u001b[0;34m()\u001b[0m\n\u001b[1;32m     25\u001b[0m \u001b[0;31m#print()\u001b[0m\u001b[0;34m\u001b[0m\u001b[0;34m\u001b[0m\u001b[0;34m\u001b[0m\u001b[0m\n\u001b[1;32m     26\u001b[0m \u001b[0;34m\u001b[0m\u001b[0m\n\u001b[0;32m---> 27\u001b[0;31m \u001b[0mcan_i_skip_snow_boots\u001b[0m \u001b[0;34m!=\u001b[0m \u001b[0mis_it_snowing\u001b[0m\u001b[0;34m\u001b[0m\u001b[0;34m\u001b[0m\u001b[0m\n\u001b[0m\u001b[1;32m     28\u001b[0m \u001b[0mprint\u001b[0m\u001b[0;34m(\u001b[0m\u001b[0mcan_i_skip_snow_boots\u001b[0m\u001b[0;34m)\u001b[0m\u001b[0;34m\u001b[0m\u001b[0;34m\u001b[0m\u001b[0m\n\u001b[1;32m     29\u001b[0m \u001b[0;34m\u001b[0m\u001b[0m\n",
            "\u001b[0;31mNameError\u001b[0m: name 'can_i_skip_snow_boots' is not defined"
          ]
        }
      ]
    },
    {
      "cell_type": "markdown",
      "metadata": {
        "id": "CyHYSJnqOON5",
        "colab_type": "text"
      },
      "source": [
        "\n",
        "\n",
        "### P2.PY\n",
        "\n",
        "\n"
      ]
    },
    {
      "cell_type": "code",
      "metadata": {
        "id": "sl56lxHlOON5",
        "colab_type": "code",
        "colab": {}
      },
      "source": [
        "\"\"\"\n",
        "Weather II - Precipitation\n",
        "\"\"\"\n",
        "\n",
        "# Repeat the same process as p1, using this new set of variables.\n",
        "\n",
        "sunny = True\n",
        "raining = True\n",
        "snowing = False\n",
        "\n",
        "is_it_sunny = sunny\n",
        "is_there_precipitation = raining or snowing \n",
        "is_it_sleeting = raining and snowing \n",
        "is_there_rainbow = sunny and raining"
      ],
      "execution_count": 0,
      "outputs": []
    },
    {
      "cell_type": "markdown",
      "metadata": {
        "id": "2RW2-ar3OON7",
        "colab_type": "text"
      },
      "source": [
        "\n",
        "\n",
        "### P3.PY\n",
        "\n",
        "\n"
      ]
    },
    {
      "cell_type": "code",
      "metadata": {
        "id": "v28Sdxs2OON8",
        "colab_type": "code",
        "colab": {}
      },
      "source": [
        "\"\"\"\n",
        "Weather III - Describe Conditions\n",
        "\"\"\"\n",
        "\n",
        "# Repeat the same process as p1, using this new set of variables.\n",
        "\n",
        "\n",
        "is_it_warm = True\n",
        "is_it_humid = True\n",
        "is_it_cold = False\n",
        "is_it_icy = False\n",
        "is_it_foggy = False\n",
        "is_it_windy = False\n",
        "is_it_overcast = True\n",
        "\n",
        "\n",
        "is_it_summer_weather = is_it_warm or is_it_humid\n",
        "is_rain_coming = is_it_humid or is_it_overcast or is_it_windy\n",
        "is_it_muggy = is_it_humid and is_it_warm\n",
        "do_i_need_coat = is_it_cold or is_it_icy or is_it_windy\n",
        "\n"
      ],
      "execution_count": 0,
      "outputs": []
    },
    {
      "cell_type": "markdown",
      "metadata": {
        "id": "5I0OGqjCOON9",
        "colab_type": "text"
      },
      "source": [
        "\n",
        "\n",
        "## LOGIC\n",
        "\n",
        "### P1.PY\n",
        "\n",
        "\n"
      ]
    },
    {
      "cell_type": "code",
      "metadata": {
        "id": "AFto73hmOON-",
        "colab_type": "code",
        "outputId": "28972bbb-3901-4820-87fb-d7ccac76f93c",
        "colab": {
          "base_uri": "https://localhost:8080/",
          "height": 34
        }
      },
      "source": [
        "\"\"\"\n",
        "Calculate Grade\n",
        "\"\"\"\n",
        "\n",
        " # expect this to be a number\n",
        "\n",
        "# write a program that will print the \"letter\"\n",
        "# equivalent of the grade, for example:\n",
        "# when grade = 90 # -> expect A\n",
        "# when grade = 80 # -> expect B\n",
        "# when grade = 70 # -> expect C\n",
        "# when grade = 60 # -> expect D\n",
        "# when grade = 54 # -> expect F\n",
        "# when grade = -10 # -> expect Error\n",
        "# when grade = 10000 # -> expect Error\n",
        "# when grade = \"lol skool sucks\" # -> expect Error\n",
        "\n",
        "\n",
        "grade = 85 \n",
        "\n",
        "if grade >= 90:\n",
        "  print(\"A\")\n",
        "elif grade >= 80:\n",
        "  print(\"B\")\n",
        "elif grade >= 70:\n",
        "  print(\"C\")\n",
        "elif grade >= 60:\n",
        "  print(\"D\")\n",
        "elif grade >= 54:\n",
        "  print(\"F\")\n",
        "elif grade == -10:\n",
        "  print(\"Error\")\n",
        "elif grade == -1000:\n",
        "  print(\"Error\")\n",
        "elif grade == \"lol skool sucks\":\n",
        "  print(\"Error\")\n",
        "else:\n",
        "  print(\"No Grade\")"
      ],
      "execution_count": 12,
      "outputs": [
        {
          "output_type": "stream",
          "text": [
            "B\n"
          ],
          "name": "stdout"
        }
      ]
    },
    {
      "cell_type": "markdown",
      "metadata": {
        "id": "bPTlkrjNOOOA",
        "colab_type": "text"
      },
      "source": [
        "\n",
        "\n",
        "### P2.PY\n",
        "\n",
        "\n"
      ]
    },
    {
      "cell_type": "code",
      "metadata": {
        "id": "yPuysD6UOOOB",
        "colab_type": "code",
        "outputId": "5bdb4181-8e71-4679-a898-6be3efaa2bf4",
        "colab": {
          "base_uri": "https://localhost:8080/",
          "height": 34
        }
      },
      "source": [
        "\"\"\"\n",
        "Sign of Product\n",
        "\"\"\"\n",
        "\n",
        "# Given three numbers, a, b, c, without multiplying, determine the sign of their product.\n",
        "\n",
        "# EXAMPLE: a = -5, b = 6, c = -4, print 1\n",
        "\n",
        "a = 5\n",
        "b = -2\n",
        "c = -3\n",
        "d = a * b * c\n",
        "\n",
        "#if d < 0:\n",
        "  #print(\"negative\")\n",
        "#else:\n",
        "  #print(\"positive\")\n",
        "\n",
        "# EXAMPLE: a = 5, b = 6, c = -4, print -1\n",
        "\n",
        "if a > 0 and b > 0 and c > 0:\n",
        "  print(\"positive\")\n",
        "elif  a < 0 and b < 0 and c < 0:\n",
        "  print(\"negative\")\n",
        "elif a > 0 and b > 0 and c < 0:\n",
        "  print(\"negative\")\n",
        "elif a > 0 and b < 0 and c > 0:\n",
        "  print(\"negative\")\n",
        "elif a < 0 and b > 0 and c > 0:\n",
        "  print(\"negative\")\n",
        "else:\n",
        "  print(\"positive\")"
      ],
      "execution_count": 3,
      "outputs": [
        {
          "output_type": "stream",
          "text": [
            "positive\n"
          ],
          "name": "stdout"
        }
      ]
    },
    {
      "cell_type": "markdown",
      "metadata": {
        "id": "uTCqASR2OOOE",
        "colab_type": "text"
      },
      "source": [
        "\n",
        "\n",
        "### P3.PY\n",
        "\n",
        "\n"
      ]
    },
    {
      "cell_type": "code",
      "metadata": {
        "id": "yjUGp6lhOOOF",
        "colab_type": "code",
        "outputId": "bae11d6c-8407-4ddf-8015-c4b82263d49a",
        "colab": {
          "base_uri": "https://localhost:8080/",
          "height": 34
        }
      },
      "source": [
        "\"\"\"\n",
        "Any Uppercase\n",
        "\"\"\"\n",
        "\n",
        "str = \"rachel\"\n",
        "\n",
        "if str.islower() == False:\n",
        "  print(\"upper_exists\")\n",
        "else:\n",
        "  print(\"all_lowercase\")\n",
        "  \n",
        "# str.islower is true if all lowercase..isupper is true if all uppercase \n",
        "\n",
        "# Given a string str, determine if there are any uppercase values in it. Use only conditional statements and string methods (you may have to look some up!)\n",
        "\n",
        "# EXAMPLE: str = \"teSt\", print True\n"
      ],
      "execution_count": 6,
      "outputs": [
        {
          "output_type": "stream",
          "text": [
            "all_lowercase\n"
          ],
          "name": "stdout"
        }
      ]
    },
    {
      "cell_type": "markdown",
      "metadata": {
        "id": "xrDWbxOcOOOH",
        "colab_type": "text"
      },
      "source": [
        "\n",
        "\n",
        "### P4.PY\n",
        "\n",
        "\n"
      ]
    },
    {
      "cell_type": "code",
      "metadata": {
        "id": "OUU4cO-5OOOH",
        "colab_type": "code",
        "colab": {
          "base_uri": "https://localhost:8080/",
          "height": 34
        },
        "outputId": "8a10f336-3ae3-476b-e7b7-a827978eece8"
      },
      "source": [
        "\"\"\"\n",
        "Empty Strings\n",
        "\"\"\"\n",
        "\n",
        "# false is not empty, true is empty \n",
        "\n",
        "\n",
        "variable = '    '\n",
        "\n",
        "\n",
        "if len(variable.strip()) >= 1: \n",
        "  print(False)\n",
        "else:\n",
        "  print(True)\n",
        "  \n",
        "  \n",
        "# Given any empty string, of the form:\n",
        "\n",
        "# ''\n",
        "# ' '\n",
        "# '  '\n",
        "# any other num of spaces...\n",
        "\n",
        "# determine if the str is empty or not (print True or False). Hint: You'll need to look up how to remove trailing spaces from a string.\n"
      ],
      "execution_count": 7,
      "outputs": [
        {
          "output_type": "stream",
          "text": [
            "True\n"
          ],
          "name": "stdout"
        }
      ]
    },
    {
      "cell_type": "markdown",
      "metadata": {
        "id": "agQVugTPOOOK",
        "colab_type": "text"
      },
      "source": [
        "\n",
        "\n",
        "### P5.PY\n",
        "\n",
        "\n"
      ]
    },
    {
      "cell_type": "code",
      "metadata": {
        "id": "aVBh4xLLOOOM",
        "colab_type": "code",
        "colab": {
          "base_uri": "https://localhost:8080/",
          "height": 130
        },
        "outputId": "534f396c-bb75-4a8e-91a4-0950f3ef42df"
      },
      "source": [
        "\"\"\"\n",
        "truthTableEvaluator\n",
        "\"\"\"\n",
        "\n",
        "# Given the following inputs:\n",
        "\n",
        "\n",
        "# P = # True or False\n",
        "# Q = # True or False\n",
        "# op = # '^' (logical AND, conjunction)\n",
        "#      # OR, 'v' (logical OR, disjunction)\n",
        "#      # OR, '->' (logical conditional, implication)\n",
        "#      # OR, '<->' (biconditional)\n",
        "# determine the correct outcome.\n",
        "\n",
        "# https://medium.com/i-math/intro-to-truth-tables-boolean-algebra-73b331dd9b94\n",
        "\n",
        "\n",
        "P = True \n",
        "Q = False  \n",
        "\n",
        "\n",
        "if P == True and Q == True:\n",
        "  op = True \n",
        "if P == False and Q == False:\n",
        "  op == True \n",
        "else:\n",
        "  op = False\n",
        "  print(op)\n",
        "  \n",
        "\n",
        "if P == True or Q == True:\n",
        "  v = True\n",
        "else: \n",
        "  v = False \n",
        "  print(v)\n",
        "  \n",
        "if P ==False and Q == False:\n",
        "  both_false == True \n",
        "else: \n",
        "  both_false == False \n",
        "  \n",
        "if P == True and Q == False:\n",
        "  one_false = True \n",
        "if P == False ad Q == True:\n",
        "  one_false = True\n",
        "else: \n",
        "  one_false = False\n",
        "  \n",
        " #unsure how to connect these..ask in class on Monday "
      ],
      "execution_count": 19,
      "outputs": [
        {
          "output_type": "error",
          "ename": "SyntaxError",
          "evalue": "ignored",
          "traceback": [
            "\u001b[0;36m  File \u001b[0;32m\"<ipython-input-19-16d9b00fd12d>\"\u001b[0;36m, line \u001b[0;32m26\u001b[0m\n\u001b[0;31m    op == True and both_false = True\u001b[0m\n\u001b[0m    ^\u001b[0m\n\u001b[0;31mSyntaxError\u001b[0m\u001b[0;31m:\u001b[0m can't assign to operator\n"
          ]
        }
      ]
    },
    {
      "cell_type": "markdown",
      "metadata": {
        "id": "AC8lYfAIOOOP",
        "colab_type": "text"
      },
      "source": [
        "\n",
        "\n",
        "## RANDOM_NUMS\n",
        "\n",
        "### P1.PY\n",
        "\n",
        "\n"
      ]
    },
    {
      "cell_type": "code",
      "metadata": {
        "id": "BqJKtk3TOOOP",
        "colab_type": "code",
        "outputId": "17f261f5-cfc9-42fa-9072-c0006c9ea045",
        "colab": {
          "base_uri": "https://localhost:8080/",
          "height": 34
        }
      },
      "source": [
        "\"\"\"\n",
        "Generate Traffic Light\n",
        "\"\"\"\n",
        "\n",
        "# import python random package\n",
        "  \n",
        "\n",
        "# generates a random number from 1 to 3\n",
        "\n",
        "\n",
        "# if 1, print 'red'\n",
        "# if 2, print 'green',\n",
        "# if 3, print 'yellow'\n",
        "\n",
        "import random \n",
        "light = random.randint(1, 3)\n",
        "\n",
        "if light == 1:\n",
        "  print(\"red\")\n",
        "elif light == 2:\n",
        "  print(\"green\")\n",
        "elif light == 3:\n",
        "  print(\"yellow\")\n",
        "  \n",
        "\n",
        "\n",
        "  "
      ],
      "execution_count": 11,
      "outputs": [
        {
          "output_type": "stream",
          "text": [
            "red\n"
          ],
          "name": "stdout"
        }
      ]
    },
    {
      "cell_type": "markdown",
      "metadata": {
        "id": "A9T82B9fOOOS",
        "colab_type": "text"
      },
      "source": [
        "\n",
        "\n",
        "### P2.PY\n",
        "\n",
        "\n"
      ]
    },
    {
      "cell_type": "code",
      "metadata": {
        "id": "zurc7Ph_OOOS",
        "colab_type": "code",
        "outputId": "6cf6d5ba-f48c-4af7-873f-c91638887b3a",
        "colab": {
          "base_uri": "https://localhost:8080/",
          "height": 51
        }
      },
      "source": [
        "\"\"\"\n",
        "Generate Phone Number w/Area Code\n",
        "\"\"\"\n",
        "\n",
        "# import python random package\n",
        "\n",
        "import random \n",
        "first = str(random.randint(1,9))\n",
        "print(type(first))\n",
        "\n",
        "second = [646, 718, 212]\n",
        "second_selection = str(random.choice(second))\n",
        "\n",
        "third =random.randint(0,999)\n",
        "third = str(third)\n",
        "\n",
        "     \n",
        "fourth = random.randint(0,9999)\n",
        "fourth = str(fourth)\n",
        "            \n",
        "print(first + \"-\" + second_selection + \"-\" + third.zfill(3) + \"-\" + fourth.zfill(4))\n",
        "\n",
        "# generate a random phone number of the form:\n",
        "# 1-718-786-2825\n",
        "# This should be a string\n",
        "# Valid Area Codes are: 646, 718, 212\n",
        "# if phone number doesn't have [646, 718, 212]\n",
        "# as area code, pick one of the above at random\n"
      ],
      "execution_count": 19,
      "outputs": [
        {
          "output_type": "stream",
          "text": [
            "<class 'str'>\n",
            "4-212-127-1019\n"
          ],
          "name": "stdout"
        }
      ]
    },
    {
      "cell_type": "markdown",
      "metadata": {
        "id": "hpKFJwg1OOOU",
        "colab_type": "text"
      },
      "source": [
        "\n"
      ]
    }
  ]
}